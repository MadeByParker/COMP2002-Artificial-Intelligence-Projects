{
 "cells": [
  {
   "cell_type": "markdown",
   "id": "2640b173",
   "metadata": {},
   "source": [
    "# Assessment: Part 2 - Optimisation\n",
    "<br>\n",
    "\n",
    "## Task: Optimise a timetable so that session is scheduled once per week in such a way that timetable constraints are minimised. \n",
    "<br>\n",
    "\n",
    "### Relevant constraints for this assessment are: \n",
    "\n",
    "- A session cannot be scheduled for a time when any of its students or staff are in another session (concurrence constraints). The sessions for a module that clash are shown in the data file.\n",
    "- A lab session cannot occur in the week before its corresponding lecture has taken place (precedence constraints).\n",
    "<br>\n",
    "<br>\n",
    "\n",
    "### Packages needed:\n",
    "\n",
    "- pandas\n",
    "- sklearn\n",
    "- numpy\n",
    "- matplotlib"
   ]
  },
  {
   "cell_type": "markdown",
   "id": "2ba8d563",
   "metadata": {},
   "source": [
    "### 2.1 – Generation of random solutions"
   ]
  },
  {
   "cell_type": "markdown",
   "id": "877f99d5",
   "metadata": {},
   "source": [
    "#### Importing libraries"
   ]
  },
  {
   "cell_type": "code",
   "execution_count": 222,
   "id": "98837a56",
   "metadata": {},
   "outputs": [],
   "source": [
    "import numpy as np\n",
    "import random\n",
    "import matplotlib.pyplot as plt"
   ]
  },
  {
   "cell_type": "markdown",
   "id": "e42a1d54",
   "metadata": {},
   "source": [
    "#### Reading the file and splitting it"
   ]
  },
  {
   "cell_type": "code",
   "execution_count": 223,
   "id": "90382d98",
   "metadata": {},
   "outputs": [
    {
     "name": "stdout",
     "output_type": "stream",
     "text": [
      "['MOD001', 'MOD002', 'MOD003', 'MOD004', 'MOD005', 'MOD006', 'MOD007', 'MOD008', 'MOD009', 'MOD010', 'MOD011', 'MOD012', 'MOD013', 'MOD014', 'MOD015', 'MOD016', 'MOD017']\n",
      "[2, 2, 2, 1, 2, 3, 1, 2, 3, 2, 2, 2, 1, 2, 2, 1, 1]\n",
      "[[['MOD002', 'MOD003', 'MOD004', 'MOD005', 'MOD006', 'MOD007', 'MOD008', 'MOD009', 'MOD010', 'MOD013']], [['MOD001', 'MOD003', 'MOD004', 'MOD005', 'MOD006', 'MOD007', 'MOD008', 'MOD009', 'MOD010', 'MOD013']], [['MOD001', 'MOD002', 'MOD004', 'MOD005', 'MOD006', 'MOD007', 'MOD008', 'MOD009', 'MOD010', 'MOD011', 'MOD012', 'MOD013']], [['MOD001', 'MOD002', 'MOD003', 'MOD005', 'MOD006', 'MOD007', 'MOD008', 'MOD009', 'MOD010', 'MOD011', 'MOD012', 'MOD013']], [['MOD001', 'MOD002', 'MOD003', 'MOD004', 'MOD006', 'MOD007', 'MOD008', 'MOD009', 'MOD010', 'MOD011', 'MOD012']], [['MOD001', 'MOD002', 'MOD003', 'MOD004', 'MOD005', 'MOD007', 'MOD008', 'MOD009', 'MOD010', 'MOD011', 'MOD012']], [['MOD001', 'MOD002', 'MOD003', 'MOD004', 'MOD005', 'MOD006', 'MOD008', 'MOD009', 'MOD010', 'MOD011', 'MOD014', 'MOD015', 'MOD016', 'MOD017']], [['MOD001', 'MOD002', 'MOD003', 'MOD004', 'MOD005', 'MOD006', 'MOD007', 'MOD009', 'MOD010', 'MOD011', 'MOD012', 'MOD014', 'MOD015']], [['MOD001', 'MOD002', 'MOD003', 'MOD004', 'MOD005', 'MOD006', 'MOD007', 'MOD008', 'MOD010', 'MOD011', 'MOD012', 'MOD013']], [['MOD001', 'MOD002', 'MOD003', 'MOD004', 'MOD005', 'M0D006', 'MOD007', 'MOD008', 'MOD009', 'MOD013']], [['MOD003', 'MOD004', 'MOD005', 'MOD006', 'MOD007', 'MOD008', 'MOD009', 'MOD012', 'MOD014', 'MOD015', 'MOD016', 'MOD017']], [['MOD003', 'MOD04', 'MOD005', 'MOD006', 'MOD007', 'MOD008', 'MOD009', 'MOD011', 'MOD014', 'MOD015']], [['MOD001', 'MOD002', 'MOD003', 'MOD004', 'MOD009', 'MOD010']], [['MOD007', 'MOD008', 'M0D011', 'MOD012', 'MOD015', 'MOD016', 'MOD017']], [['MOD007', 'MOD008', 'MOD011', 'MOD012', 'MOD014', 'MOD016', 'MOD017']], [['MOD007', 'MOD008', 'MOD011', 'MOD012', 'MOD014', 'MOD015', 'MOD017']], [['MOD007', 'MOD008', 'MOD011', 'MOD012', 'MOD014', 'MOD015', 'MOD016']]]\n"
     ]
    }
   ],
   "source": [
    "filepath = \"./Modules.txt\"\n",
    "\n",
    "#Read file into list\n",
    "file = open(filepath, 'r')\n",
    "contents = file.read()\n",
    "file.close()\n",
    "\n",
    "#split it\n",
    "fileContents = contents.split(\"\\n\")\n",
    "\n",
    "#different arrays\n",
    "clashes = []\n",
    "modules = []\n",
    "labs = []\n",
    "amount_labs = []\n",
    "\n",
    "#put respective elements into array\n",
    "for i in range(len(fileContents)):\n",
    "    clashes.append(fileContents[i].split(\"|\"))\n",
    "    modules.append(clashes[i].pop(0))\n",
    "    clashes[i].pop(0)\n",
    "    labs.append(clashes[i].pop(0))\n",
    "\n",
    "for x in range(len(clashes)):\n",
    "    clashes[x].append(clashes[x][0].split(\",\"))\n",
    "    clashes[x].pop(0)\n",
    "\n",
    "for i in range(len(labs)):\n",
    "    amount_labs.append(int(labs[i][0]))\n",
    "\n",
    "\n",
    "print(f\"{modules}\\n{amount_labs}\\n{clashes}\")"
   ]
  },
  {
   "cell_type": "markdown",
   "id": "ff4d6bdd",
   "metadata": {},
   "source": [
    "#### Concurrent Constraints - A session cannot be scheduled for a time when any of its students or staff are in another session\n",
    "\n",
    "#### Precedence Constraints - A lab session cannot occur in the week before its corresponding lecture has taken place"
   ]
  },
  {
   "cell_type": "code",
   "execution_count": 224,
   "id": "61ca2da5",
   "metadata": {},
   "outputs": [],
   "source": [
    "def concurrent_clashes(lab, module):\n",
    "\n",
    "    concurrent_constraints = 0\n",
    "    precedence_constraints = 0\n",
    "    # Check for clashes.\n",
    "    \n",
    "    if len(lab) < len(module):\n",
    "        count = len(lab)\n",
    "    else:\n",
    "        count = len(module)\n",
    "\n",
    "\n",
    "    for i in range(count):\n",
    "        if module[i] == lab[i]:\n",
    "            concurrent_constraints = concurrent_constraints + 1\n",
    "        for j in range(i):\n",
    "            if j < i:\n",
    "                if module[j] == lab[j]: # if lab is before lecture\n",
    "                    precedence_constraints = precedence_constraints + 1\n",
    "                    break\n",
    "\n",
    "    return concurrent_constraints, precedence_constraints"
   ]
  },
  {
   "cell_type": "markdown",
   "id": "ff4d6bdd",
   "metadata": {},
   "source": [
    "#### Concurrent Constraints - A session cannot be scheduled for a time when any of its students or staff are in another session"
   ]
  },
  {
   "cell_type": "code",
   "execution_count": 225,
   "id": "d1936d41",
   "metadata": {},
   "outputs": [],
   "source": [
    "def modules_clashes(lab, module):\n",
    "\n",
    "    concurrent_constraints = 0\n",
    "    module_element = np.array_split(modules, 17)\n",
    "    \n",
    "    for i in range(len(module_element)):\n",
    "        for j in range(len(clashes[i])):\n",
    "            module_element[i] = np.concatenate([module_element[i], clashes[i][j]])\n",
    "\n",
    "    if len(lab) < len(module):\n",
    "        count = len(lab)\n",
    "    else:\n",
    "        count = len(module)\n",
    "\n",
    "    #find matching module\n",
    "    for i in range(count):\n",
    "        for j in range(len(module_element)):\n",
    "            if module[i] == module_element[j][0]:\n",
    "                if lab[i] is not None and lab[i] in module_element[j] and lab[i] != module_element[j][0]:\n",
    "                    concurrent_constraints = concurrent_constraints + 1\n",
    "                    break\n",
    "\n",
    "    return concurrent_constraints"
   ]
  },
  {
   "cell_type": "markdown",
   "id": "8207644d",
   "metadata": {},
   "source": [
    "#### Total Constraints"
   ]
  },
  {
   "cell_type": "code",
   "execution_count": 226,
   "id": "d653f4d8",
   "metadata": {},
   "outputs": [],
   "source": [
    "def total_constraints(timetable):\n",
    "\n",
    "    concurrent_constraints = [int] * 4\n",
    "    precedence_constraints = [int] * 2\n",
    "    total_concurrent_constraints = 0\n",
    "    total_precedence_constraints = 0\n",
    "\n",
    "    concurrent_constraints[0], precedence_constraints[0] = concurrent_clashes(timetable[1], timetable[0])\n",
    "    concurrent_constraints[1], precedence_constraints[1] = concurrent_clashes(timetable[2], timetable[0])\n",
    "\n",
    "    concurrent_constraints[2] = modules_clashes(timetable[1], timetable[0])\n",
    "    concurrent_constraints[3] = modules_clashes(timetable[2], timetable[0])\n",
    "\n",
    "    for x in range(len(concurrent_constraints)):\n",
    "        total_concurrent_constraints = total_concurrent_constraints + concurrent_constraints[x]\n",
    "    for y in range(len(precedence_constraints)):\n",
    "        total_precedence_constraints = total_precedence_constraints + precedence_constraints[y]\n",
    "\n",
    "    return total_concurrent_constraints, total_precedence_constraints"
   ]
  },
  {
   "cell_type": "markdown",
   "id": "2412863a",
   "metadata": {},
   "source": [
    "#### Calculating fitness"
   ]
  },
  {
   "cell_type": "code",
   "execution_count": 227,
   "id": "05d08918",
   "metadata": {},
   "outputs": [],
   "source": [
    "def return_fitness(timetable): \n",
    "\n",
    "    total_concurrent_constraints, total_precedence_constraints = total_constraints(timetable)\n",
    "    fitness = total_concurrent_constraints * total_precedence_constraints\n",
    "\n",
    "    return(fitness)"
   ]
  },
  {
   "cell_type": "markdown",
   "id": "71518a51",
   "metadata": {},
   "source": [
    "#### Generating random timetable"
   ]
  },
  {
   "cell_type": "code",
   "execution_count": 228,
   "id": "e551f134",
   "metadata": {},
   "outputs": [],
   "source": [
    "def generate_timetable():\n",
    "    lectures = []\n",
    "    lab_1 = []\n",
    "    lab_2 = []\n",
    "    timetable = np.empty([3, 20], dtype=object)\n",
    "    \n",
    "    #lab sessions\n",
    "    lab_sessions = []\n",
    "    for i in range(len(modules)):\n",
    "        for j in range(len(labs[i])):\n",
    "            lab_sessions.append(modules[i])\n",
    "\n",
    "    for i in range(len(modules)):\n",
    "        lectures.append(modules[i])\n",
    "\n",
    "    for i in range(len(lab_sessions)):\n",
    "        if i <= 20:\n",
    "            lab_1.append(lab_sessions[i])\n",
    "        if i > 20 and i < len(lab_sessions):\n",
    "            lab_2.append(lab_sessions[i])\n",
    "\n",
    "    for i in range(len(lectures)):\n",
    "        timetable[0][i] = lectures[i]\n",
    "    for i in range(len(lab_1)):\n",
    "        timetable[1][i] = lab_1[i]\n",
    "    for i in range(len(lab_2)):\n",
    "        timetable[2][i] = lab_2[i]\n",
    "\n",
    "    # Shuffle the lectures and labs so the solution is random.\n",
    "    random.shuffle(timetable[0])\n",
    "    random.shuffle(timetable[1])\n",
    "    random.shuffle(timetable[2])\n",
    "    \n",
    "    fitness = return_fitness(timetable)\n",
    "    \n",
    "    return timetable, fitness\n"
   ]
  },
  {
   "cell_type": "markdown",
   "id": "142540d2",
   "metadata": {},
   "source": [
    "### 2.2 – Algorithm implementation"
   ]
  },
  {
   "cell_type": "markdown",
   "id": "ff4d6bdd",
   "metadata": {},
   "source": [
    "#### Ruin and Recreate Mutation - generates a completely new solution at random"
   ]
  },
  {
   "cell_type": "code",
   "execution_count": 229,
   "id": "da893fbc",
   "metadata": {},
   "outputs": [],
   "source": [
    "def ruin_recreate(parent):\n",
    "    child = parent.copy()\n",
    "    for i in range(len(child)):\n",
    "        random.shuffle(child[i])\n",
    "    return child"
   ]
  },
  {
   "cell_type": "markdown",
   "id": "ff4d6bdd",
   "metadata": {},
   "source": [
    "#### Session Replace Mutation - placing a session into another slot in the timetable"
   ]
  },
  {
   "cell_type": "code",
   "execution_count": 230,
   "id": "7eeba6c4",
   "metadata": {},
   "outputs": [],
   "source": [
    "def session_replace(parent):\n",
    "    child = parent.copy()\n",
    "    idx = random.randint(0, 2)\n",
    "    session_1 = random.randint(0, 19)\n",
    "    session_2 = random.randint(0, 19)\n",
    "    child[idx][session_1], child[idx][session_2] = child[idx][session_2], child[idx][session_1]\n",
    "    return child"
   ]
  },
  {
   "cell_type": "code",
   "execution_count": 231,
   "id": "87dafa34",
   "metadata": {},
   "outputs": [],
   "source": [
    "def less_than_equal(a ,b):\n",
    "    return a <= b"
   ]
  },
  {
   "cell_type": "markdown",
   "id": "ff4d6bdd",
   "metadata": {},
   "source": [
    "#### Hillclimber:\n",
    "\n",
    "- generating random solution\n",
    "- using either mutation\n",
    "- generate a child through mutation\n",
    "- compare parent and child's fitness\n",
    "- return best fitness"
   ]
  },
  {
   "cell_type": "code",
   "execution_count": 232,
   "id": "7f2f38b1",
   "metadata": {},
   "outputs": [],
   "source": [
    "def hillclimber(N, generate_timetable, mutation, comparison):\n",
    "\n",
    "    #random solution\n",
    "    parent, parent_fitness = generate_timetable()\n",
    "    \n",
    "    for iter in range(N):\n",
    "        \n",
    "        # Mutate child\n",
    "        child = mutation(parent)\n",
    "\n",
    "        # Evaluate fitness\n",
    "        child_fitness = return_fitness(child)\n",
    "\n",
    "        # Pick the next parent solution\n",
    "        if comparison(child_fitness, parent_fitness):\n",
    "            parent = child\n",
    "            parent_fitness = child_fitness\n",
    "        \n",
    "    return parent, parent_fitness"
   ]
  },
  {
   "cell_type": "markdown",
   "id": "1f4490af",
   "metadata": {},
   "source": [
    "###  2.3 – Visualisation of results"
   ]
  },
  {
   "cell_type": "code",
   "execution_count": 233,
   "id": "47d68205",
   "metadata": {},
   "outputs": [],
   "source": [
    "def plot_graph(fitness, mutation_name):\n",
    "\n",
    "    max_fitness_list = []\n",
    "    min_fitness_list = []\n",
    "    average_fitness_list = []\n",
    "\n",
    "    for i in range(len(fitness)):\n",
    "        worst_fitness = 0\n",
    "        best_fitness = float(\"inf\")\n",
    "        total = 0\n",
    "        for item in fitness:\n",
    "            if item > worst_fitness:\n",
    "                worst_fitness = item\n",
    "            if item < best_fitness:\n",
    "                best_fitness = item      \n",
    "            total += item\n",
    "\n",
    "        average = total / len(fitness)\n",
    "        max_fitness_list.append(worst_fitness)\n",
    "        average_fitness_list.append(average)\n",
    "        min_fitness_list.append(best_fitness)\n",
    "    \n",
    "    print(average_fitness_list)\n",
    "    plt.plot(max_fitness_list)\n",
    "    plt.plot(average_fitness_list)\n",
    "    plt.plot(min_fitness_list)\n",
    "    plt.title(f\"Timetable Fitness Scores - {mutation_name}\")\n",
    "    plt.xlabel(\"Iteration\")\n",
    "    plt.ylabel(\"Fitness\")\n",
    "    plt.legend([\"Minimum\", \"Mean\", \"Maximum\"], loc=(1,0.5))\n",
    "    plt.show()"
   ]
  },
  {
   "cell_type": "code",
   "execution_count": 234,
   "id": "398b3bc8",
   "metadata": {},
   "outputs": [
    {
     "name": "stdout",
     "output_type": "stream",
     "text": [
      "Ruin and Recreate: [45, 42, 39, 50, 39, 50, 44, 36, 56, 40, 30, 40, 16, 30, 18, 26, 40, 70, 65, 30, 40, 22, 44, 39, 36, 27, 36, 26, 60, 42]\n",
      "Session Replace: [24, 10, 15, 20, 40, 33, 8, 16, 6, 24, 9, 20, 39, 32, 20, 9, 12, 6, 28, 16, 12, 12, 12, 21, 36, 21, 10, 36, 12, 16]\n",
      "[39.266666666666666, 39.266666666666666, 39.266666666666666, 39.266666666666666, 39.266666666666666, 39.266666666666666, 39.266666666666666, 39.266666666666666, 39.266666666666666, 39.266666666666666, 39.266666666666666, 39.266666666666666, 39.266666666666666, 39.266666666666666, 39.266666666666666, 39.266666666666666, 39.266666666666666, 39.266666666666666, 39.266666666666666, 39.266666666666666, 39.266666666666666, 39.266666666666666, 39.266666666666666, 39.266666666666666, 39.266666666666666, 39.266666666666666, 39.266666666666666, 39.266666666666666, 39.266666666666666, 39.266666666666666]\n"
     ]
    },
    {
     "data": {
      "image/png": "[encoded data removed]",
      "text/plain": [
       "<Figure size 432x288 with 1 Axes>"
      ]
     },
     "metadata": {
      "needs_background": "light"
     },
     "output_type": "display_data"
    },
    {
     "name": "stdout",
     "output_type": "stream",
     "text": [
      "[19.166666666666668, 19.166666666666668, 19.166666666666668, 19.166666666666668, 19.166666666666668, 19.166666666666668, 19.166666666666668, 19.166666666666668, 19.166666666666668, 19.166666666666668, 19.166666666666668, 19.166666666666668, 19.166666666666668, 19.166666666666668, 19.166666666666668, 19.166666666666668, 19.166666666666668, 19.166666666666668, 19.166666666666668, 19.166666666666668, 19.166666666666668, 19.166666666666668, 19.166666666666668, 19.166666666666668, 19.166666666666668, 19.166666666666668, 19.166666666666668, 19.166666666666668, 19.166666666666668, 19.166666666666668]\n"
     ]
    },
    {
     "data": {
      "image/png": "[encoded data removed]",
      "text/plain": [
       "<Figure size 432x288 with 1 Axes>"
      ]
     },
     "metadata": {
      "needs_background": "light"
     },
     "output_type": "display_data"
    }
   ],
   "source": [
    "def results():\n",
    "    sessionReplaceList = []\n",
    "    RuinNRecreateList = []\n",
    "    \n",
    "    for i in range(30):\n",
    "\n",
    "        # Run hillclimber here\n",
    "        solution, fitness = hillclimber(500, generate_timetable, ruin_recreate, less_than_equal)\n",
    "        solution2, fitness2 = hillclimber(500, generate_timetable, session_replace, less_than_equal)\n",
    "        sessionReplaceList.append(fitness2)\n",
    "        RuinNRecreateList.append(fitness)\n",
    "\n",
    "    print(f\"Ruin and Recreate: {RuinNRecreateList}\")\n",
    "    print(f\"Session Replace: {sessionReplaceList}\")\n",
    "\n",
    "    plot_graph(RuinNRecreateList, \"Ruin and Recreate Mutation\")\n",
    "    plot_graph(sessionReplaceList, \"Session Replace Mutation\")\n",
    "    \n",
    "results()"
   ]
  }
 ],
 "metadata": {
  "kernelspec": {
   "display_name": "Python 3 (ipykernel)",
   "language": "python",
   "name": "python3"
  },
  "language_info": {
   "codemirror_mode": {
    "name": "ipython",
    "version": 3
   },
   "file_extension": ".py",
   "mimetype": "text/x-python",
   "name": "python",
   "nbconvert_exporter": "python",
   "pygments_lexer": "ipython3",
   "version": "3.9.5"
  }
 },
 "nbformat": 4,
 "nbformat_minor": 5
}
