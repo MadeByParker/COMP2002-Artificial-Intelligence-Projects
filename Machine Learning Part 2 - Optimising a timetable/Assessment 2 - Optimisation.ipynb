{
 "cells": [
  {
   "cell_type": "markdown",
   "id": "2640b173",
   "metadata": {},
   "source": [
    "# Assessment: Part 2 - Optimisation\n",
    "<br>\n",
    "\n",
    "## Task: Optimise a timetable so that session is scheduled once per week in such a way that timetable constraints are minimised. \n",
    "<br>\n",
    "\n",
    "### Relevant constraints for this assessment are: \n",
    "\n",
    "- A session cannot be scheduled for a time when any of its students or staff are in another session (concurrence constraints). The sessions for a module that clash are shown in the data file.\n",
    "- A lab session cannot occur in the week before its corresponding lecture has taken place (precedence constraints).\n",
    "<br>\n",
    "<br>\n",
    "\n",
    "### Packages needed:\n",
    "\n",
    "- pandas\n",
    "- sklearn\n",
    "- numpy\n",
    "- matplotlib"
   ]
  },
  {
   "cell_type": "markdown",
   "id": "2ba8d563",
   "metadata": {},
   "source": [
    "### 2.1 – Generation of random solutions"
   ]
  },
  {
   "cell_type": "markdown",
   "id": "877f99d5",
   "metadata": {},
   "source": [
    "#### Importing libraries"
   ]
  },
  {
   "cell_type": "code",
   "execution_count": 5,
   "id": "98837a56",
   "metadata": {},
   "outputs": [],
   "source": [
    "import numpy as np\n",
    "import random\n",
    "import random\n",
    "import time\n",
    "import math\n",
    "import matplotlib.pyplot as plt"
   ]
  },
  {
   "cell_type": "code",
   "execution_count": 11,
   "id": "90382d98",
   "metadata": {},
   "outputs": [
    {
     "data": {
      "text/plain": [
       "Index(['MOD001|Zacharias Karstensen|2|MOD002,MOD003,MOD004,MOD005,MOD006,MOD007,MOD008,MOD009,MOD010,MOD013'], dtype='object')"
      ]
     },
     "execution_count": 11,
     "metadata": {},
     "output_type": "execute_result"
    }
   ],
   "source": [
    "file = \"./Modules.txt\"\n",
    "\n",
    "# Load the list of modules in to an array to read only permissions\n",
    "modules_file = open(file, \"r\")\n",
    "modules = [] # List that will hold the modules\n",
    "for line in modules_file:\n",
    "    module = line.strip('\\n')\n",
    "    modules.append(module)\n",
    "\n",
    "#close the file\n",
    "modules_file.close()"
   ]
  },
  {
   "cell_type": "code",
   "execution_count": null,
   "id": "6fc0f63e",
   "metadata": {},
   "outputs": [],
   "source": []
  },
  {
   "cell_type": "code",
   "execution_count": 7,
   "id": "36eceb51",
   "metadata": {},
   "outputs": [],
   "source": []
  },
  {
   "cell_type": "code",
   "execution_count": 8,
   "id": "7f2f38b1",
   "metadata": {},
   "outputs": [
    {
     "name": "stdout",
     "output_type": "stream",
     "text": [
      "[ 7  5 10  8  3  3  4 10  7 10] + 67\n",
      "[ 8  0  7  6  2  4  5  5 10  7] + 54\n",
      "[9 8 9 2 9 6 5 5 1 7] + 61\n",
      "[10  8 10  7  4  0  7  6 10  8] + 70\n",
      "[2 7 3 2 5 9 3 9 5 0] + 45\n"
     ]
    }
   ],
   "source": [
    "def onemax(x):\n",
    "  return x.sum()\n",
    "\n",
    "D = 17\n",
    "def generate_binary(D):\n",
    "  ## Generate a array of D bits\n",
    "  return np.random.randint(0, 11, D)\n",
    "\n",
    "for i in range(5):\n",
    "  x = generate_binary(10)\n",
    "  y = onemax(x)\n",
    "\n",
    "  print(f\"{x} + {y}\")\n",
    "\n",
    "\n",
    "def binary_mutation(parent):\n",
    "  idx = np.random.randint(parent.shape[0])\n",
    "\n",
    "  child = parent.copy()\n",
    "  child[idx] = abs(parent[idx] - 1)\n",
    "\n",
    "  return child\n",
    "\n",
    "def greater_than_equal(a, b):\n",
    "  return a >= b\n",
    "\n",
    "def hillclimber(Niter, problem, D, generate_binary, mutation, comparsion):\n",
    "  parent = generate_binary(D)\n",
    "  parent_fitness = problem(parent)\n",
    "\n",
    "  for iter in range(Niter):\n",
    "    child = mutation(parent)\n",
    "\n",
    "\n",
    "  child_fitness = problem(child)\n",
    "\n",
    "  if comparsion(child_fitness, parent_fitness):\n",
    "    parent = child\n",
    "    parent_fitness = child_fitness\n",
    "\n",
    "  return parent, parent_fitness\n",
    "\n",
    "x, y = hillclimber(500, onemax, 10, generate_binary, binary_mutation, greater_than_equal)\n",
    "print(f\"Best Solution: {x}, fitness: {y}\")\n",
    "\n",
    "def sphere(x):\n",
    "  return (x**2).sum()\n",
    "\n",
    "def generate_continuous(D):\n",
    "\n",
    "  return np.random.randint(-3, 3, D)\n",
    "    \n",
    "    \n",
    "  for i in range(5):\n",
    "    x = generate_continuous(3)\n",
    "    y = sphere(x)\n",
    "    print(f\"Solution {x}, fitness {y}\")\n",
    "\n",
    "def additive_gaussian(parent):\n",
    "  z = np.random.randn() * 0.1\n",
    "  idx = np.random.randint(parent.shape[0])\n",
    "  child = parent.copy()\n",
    "  child[idx] = parent[idx] + z\n",
    "  return child\n",
    "\n",
    "def less_than_equal(a, b):\n",
    "  return a <= b \n",
    "\n",
    "x, y = hillclimber(500, sphere, 10, generate_continuous, additive_gaussian, less_than_equal)\n",
    "print(f\"Solution x: {x}, fitness {y}\")"
   ]
  },
  {
   "cell_type": "markdown",
   "id": "142540d2",
   "metadata": {},
   "source": [
    "### 2.2 – Algorithm implementation"
   ]
  },
  {
   "cell_type": "code",
   "execution_count": null,
   "id": "da893fbc",
   "metadata": {},
   "outputs": [],
   "source": [
    "def ruinAndRecreate(iterations):\n",
    "    \n",
    "    RandList = []\n",
    "    \n",
    "    bestRoute = randRoute(distances)\n",
    "    bestRouteLength = route_length(bestRoute, distances)\n",
    "    \n",
    "    for i in range(iterations):\n",
    "        route2 = randRoute(distances)\n",
    "        print(route2)\n",
    "        routelength2 = route_length(route2, distances)\n",
    "        if routelength2 < bestRouteLength:\n",
    "            bestRouteLength = routelength2\n",
    "            bestRoute = route2\n",
    "        RandList.append(bestRouteLength) #iterates through and generates a new route , if it was better than previous routes it becomes the best route is kept till the next iteration \n",
    "    return RandList\n",
    "#print(ruinAndRecreate(30))"
   ]
  },
  {
   "cell_type": "markdown",
   "id": "1f4490af",
   "metadata": {},
   "source": [
    "###  2.3 – Visualisation of results"
   ]
  },
  {
   "cell_type": "code",
   "execution_count": null,
   "id": "398b3bc8",
   "metadata": {},
   "outputs": [],
   "source": [
    "def results():\n",
    "    SwapList = []\n",
    "    RuinNRecreateList = []\n",
    "    \n",
    "    for i in range(30):\n",
    "        SwapList.append(swap(30))\n",
    "        RuinNRecreateList.append(ruinAndRecreate(30))\n",
    "        \n",
    "        # turning both lists into numpy arrays because it works out max , min and average calculations\n",
    "        Array1 = numpy.array(SwapList) \n",
    "        Array2 = numpy.array(RuinNRecreateList)\n",
    "\n",
    "    plt.plot(Array1.min(axis=0))\n",
    "    plt.plot(Array1.max(axis=0))\n",
    "    plt.plot(Array1.mean(axis=0))\n",
    "    \n",
    "    plt.plot(Array2.min(axis=0))\n",
    "    plt.plot(Array2.max(axis=0))\n",
    "    plt.plot(Array2.mean(axis=0))\n",
    "    plt.legend([\"Swap mutation minimum\",\"Swap mutation maximum\", \"Swap mutation mean\", \"Ruin and Recreate minimum\", \"Ruin and Recreate maximum\", \"Ruin and Recreate mean\"], loc=(1,0.5))\n",
    "    plt.show()\n",
    "    \n",
    "results()"
   ]
  }
 ],
 "metadata": {
  "kernelspec": {
   "display_name": "Python 3 (ipykernel)",
   "language": "python",
   "name": "python3"
  },
  "language_info": {
   "codemirror_mode": {
    "name": "ipython",
    "version": 3
   },
   "file_extension": ".py",
   "mimetype": "text/x-python",
   "name": "python",
   "nbconvert_exporter": "python",
   "pygments_lexer": "ipython3",
   "version": "3.9.5"
  }
 },
 "nbformat": 4,
 "nbformat_minor": 5
}
