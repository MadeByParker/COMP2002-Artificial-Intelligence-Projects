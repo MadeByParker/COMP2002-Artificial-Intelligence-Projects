{
 "cells": [
  {
   "cell_type": "markdown",
   "id": "2640b173",
   "metadata": {},
   "source": [
    "# Assessment 2: Machine Learning and Optimisation"
   ]
  },
  {
   "cell_type": "markdown",
   "id": "58352245",
   "metadata": {},
   "source": [
    "## Part 1 – OPTIMISATION"
   ]
  },
  {
   "cell_type": "markdown",
   "id": "2ba8d563",
   "metadata": {},
   "source": [
    "### Task 2.1 – Generation of random solutions"
   ]
  },
  {
   "cell_type": "markdown",
   "id": "877f99d5",
   "metadata": {},
   "source": [
    "#### Importing libraries"
   ]
  },
  {
   "cell_type": "code",
   "execution_count": 5,
   "id": "98837a56",
   "metadata": {},
   "outputs": [],
   "source": [
    "import numpy as np\n",
    "import matplotlib.pyplot as plt\n",
    "import pandas as pd"
   ]
  },
  {
   "cell_type": "code",
   "execution_count": 11,
   "id": "90382d98",
   "metadata": {},
   "outputs": [
    {
     "data": {
      "text/plain": [
       "Index(['MOD001|Zacharias Karstensen|2|MOD002,MOD003,MOD004,MOD005,MOD006,MOD007,MOD008,MOD009,MOD010,MOD013'], dtype='object')"
      ]
     },
     "execution_count": 11,
     "metadata": {},
     "output_type": "execute_result"
    }
   ],
   "source": [
    "df = pd.read_table(\"Modules.txt\")\n",
    "df.head()\n",
    "df.tail()\n",
    "\n",
    "df.shape\n",
    "df.columns"
   ]
  },
  {
   "cell_type": "code",
   "execution_count": null,
   "id": "6fc0f63e",
   "metadata": {},
   "outputs": [],
   "source": []
  },
  {
   "cell_type": "code",
   "execution_count": 7,
   "id": "36eceb51",
   "metadata": {},
   "outputs": [],
   "source": [
    "def onemax(x):\n",
    "  return x.sum()"
   ]
  },
  {
   "cell_type": "code",
   "execution_count": 8,
   "id": "7f2f38b1",
   "metadata": {},
   "outputs": [
    {
     "name": "stdout",
     "output_type": "stream",
     "text": [
      "[ 7  5 10  8  3  3  4 10  7 10] + 67\n",
      "[ 8  0  7  6  2  4  5  5 10  7] + 54\n",
      "[9 8 9 2 9 6 5 5 1 7] + 61\n",
      "[10  8 10  7  4  0  7  6 10  8] + 70\n",
      "[2 7 3 2 5 9 3 9 5 0] + 45\n"
     ]
    }
   ],
   "source": [
    "def generate_binary(D):\n",
    "  ## Generate a array of D bits\n",
    "  return np.random.randint(0, 11, D)\n",
    "\n",
    "for i in range(5):\n",
    "  x = generate_binary(10)\n",
    "  y = onemax(x)\n",
    "\n",
    "  print(f\"{x} + {y}\")"
   ]
  },
  {
   "cell_type": "markdown",
   "id": "142540d2",
   "metadata": {},
   "source": [
    "### Task 2.2 – Algorithm implementation"
   ]
  },
  {
   "cell_type": "markdown",
   "id": "1f4490af",
   "metadata": {},
   "source": [
    "### Task 2.3 – Visualisation of results"
   ]
  }
 ],
 "metadata": {
  "kernelspec": {
   "display_name": "Python 3 (ipykernel)",
   "language": "python",
   "name": "python3"
  },
  "language_info": {
   "codemirror_mode": {
    "name": "ipython",
    "version": 3
   },
   "file_extension": ".py",
   "mimetype": "text/x-python",
   "name": "python",
   "nbconvert_exporter": "python",
   "pygments_lexer": "ipython3",
   "version": "3.9.5"
  }
 },
 "nbformat": 4,
 "nbformat_minor": 5
}
