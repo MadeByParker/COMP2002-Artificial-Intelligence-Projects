{
 "cells": [
  {
   "cell_type": "markdown",
   "metadata": {
    "id": "CBdcIQ7nLzNj"
   },
   "source": [
    "# Assessment 2 - Part 1: Machine Learning\n",
    "<br>\n",
    "\n",
    "## Task: train regression models that predict two indicators of energy efficiency based on 8 numerical inputs. \n",
    "<br>\n",
    "\n",
    "### Packages needed:\n",
    "\n",
    "- pandas\n",
    "- sklearn\n",
    "- numpy\n",
    "- matplotlib"
   ]
  },
  {
   "cell_type": "markdown",
   "metadata": {
    "id": "XLc-NOz1L7Y6"
   },
   "source": [
    "### 1.1 - Data Preparation"
   ]
  },
  {
   "cell_type": "markdown",
   "metadata": {
    "id": "DkUjx-nTMdt0"
   },
   "source": [
    "#### Importing libraries"
   ]
  },
  {
   "cell_type": "code",
   "execution_count": null,
   "metadata": {
    "id": "V7FOfSRQL_gM"
   },
   "outputs": [],
   "source": [
    "## Imports\n",
    "from sklearn.model_selection import train_test_split\n",
    "import numpy as np\n",
    "import pandas as pd\n",
    "import matplotlib.pyplot as plt\n",
    "\n",
    "## Used for normalising the data\n",
    "from sklearn.preprocessing import MinMaxScaler\n",
    "from sklearn.decomposition import PCA\n",
    "\n",
    "## Used for regression\n",
    "from sklearn.neural_network import MLPRegressor\n",
    "from sklearn.ensemble import RandomForestRegressor\n",
    "from sklearn.svm import SVR\n",
    "\n",
    "## Used for assessment of regression\n",
    "from sklearn.metrics import mean_squared_error\n",
    "from sklearn.metrics import mean_absolute_error\n",
    "\n",
    "## Used for cross validation\n",
    "from sklearn.model_selection import cross_val_score"
   ]
  },
  {
   "cell_type": "markdown",
   "metadata": {
    "id": "jsbY820IMwiI"
   },
   "source": [
    "#### Loading the dataset"
   ]
  },
  {
   "cell_type": "code",
   "execution_count": null,
   "metadata": {
    "colab": {
     "base_uri": "https://localhost:8080/",
     "height": 414
    },
    "id": "cCoxW9vZM3ti",
    "outputId": "920b65b1-d76c-4b31-d1a0-4b1c52b14c01"
   },
   "outputs": [],
   "source": [
    "energy_data = pd.read_excel(\"ENB2012_data.xlsx\")\n",
    "\n",
    "energy_data.head()"
   ]
  },
  {
   "cell_type": "markdown",
   "metadata": {},
   "source": [
    "#### Extracting and splitting data"
   ]
  },
  {
   "cell_type": "code",
   "execution_count": null,
   "metadata": {},
   "outputs": [],
   "source": [
    "#inputs\n",
    "inputs = energy_data.values[:,:8].astype(float)\n",
    "\n",
    "# Projecting data into 2 dimensions with PCA.\n",
    "pca = PCA(n_components = 2)\n",
    "compressed_inputs = pca.fit_transform(inputs)\n",
    "\n",
    "#normalise the inputs\n",
    "scaler = MinMaxScaler()\n",
    "scaled_inputs = scaler.fit_transform(inputs)\n",
    "\n",
    "#targets\n",
    "targets =  energy_data.values[:,8:].astype(float)\n",
    "\n",
    "# Print the range of the variables to show the normalisation effect.\n",
    "print(inputs.ptp(axis=0))\n",
    "print(scaled_inputs.ptp(axis=0))"
   ]
  },
  {
   "cell_type": "markdown",
   "metadata": {},
   "source": [
    "#### Setting up train and test data"
   ]
  },
  {
   "cell_type": "code",
   "execution_count": null,
   "metadata": {},
   "outputs": [],
   "source": [
    "#set up data\n",
    "x_train, x_test, y_train, y_test = train_test_split(scaled_inputs, targets, test_size=0.3, random_state=0)"
   ]
  },
  {
   "cell_type": "markdown",
   "metadata": {
    "id": "_UbBOF8YOjX4"
   },
   "source": [
    "### Task 1.2 - Regression"
   ]
  },
  {
   "cell_type": "markdown",
   "metadata": {
    "id": "qLxHfij9O5vX"
   },
   "source": [
    "#### Regression using the \"sklearn.neural_network.MLPRegressor\""
   ]
  },
  {
   "cell_type": "code",
   "execution_count": null,
   "metadata": {
    "id": "6agXlDk9Oosv"
   },
   "outputs": [],
   "source": [
    "MLP = MLPRegressor(max_iter=10000) # <- may take a while\n",
    "MLP.fit(x_train, y_train)\n",
    "\n",
    "y_pred = MLP.predict(x_test)\n",
    "\n",
    "##MLP test CV scores\n",
    "MLP_test = abs(cross_val_score(MLP, x_test, y_test, cv=10, scoring='neg_mean_squared_error'))\n",
    "print(f\"Neural Network Regressor Test Cross Validation Scores: {MLP_test}\")\n",
    "\n",
    "MLP_train = abs(cross_val_score(MLP, x_train, y_train, cv=10, scoring='neg_mean_squared_error'))\n",
    "print(f\"Neural Network Regressor Training Cross Validation Scores: {MLP_train}\")"
   ]
  },
  {
   "cell_type": "markdown",
   "metadata": {
    "id": "AOiJ2euGPDIi"
   },
   "source": [
    "#### Regression using the \"sklearn.ensemble.RandomForestRegressor\""
   ]
  },
  {
   "cell_type": "code",
   "execution_count": null,
   "metadata": {
    "id": "nZm0TaBiPI7f"
   },
   "outputs": [],
   "source": [
    "Forest = RandomForestRegressor()\n",
    "\n",
    "Forest.fit(x_train, y_train)\n",
    "\n",
    "y_pred = MLP.predict(x_test)\n",
    "\n",
    "Forest_test = abs(cross_val_score(Forest, x_test, y_test, cv=10, scoring='neg_mean_squared_error'))\n",
    "print(f\"Random Forest Regressor Test Cross Validation Scores: {Forest_test}\")\n",
    "Forest_train = abs(cross_val_score(Forest, x_train, y_train, cv=10, scoring='neg_mean_squared_error'))\n",
    "print(f\"Random Forest Regressor Training Cross Validation Scores: {Forest_train}\")\n"
   ]
  },
  {
   "cell_type": "markdown",
   "metadata": {
    "id": "RBh3t_m8wzfg"
   },
   "source": [
    "#### Regression using the \"sklearn.svm.SVR\""
   ]
  },
  {
   "cell_type": "code",
   "execution_count": null,
   "metadata": {
    "id": "y-G-nLt7wzfp"
   },
   "outputs": [],
   "source": [
    "SVR_Regressor = SVR()\n",
    "\n",
    "SVR_Regressor.fit(x_train, y_train[:, 0])\n",
    "y_pred_1 = SVR_Regressor.predict(x_test)\n",
    "\n",
    "SVR_Regressor.fit(x_train, y_train[:, 1])\n",
    "y_pred_2 = SVR_Regressor.predict(x_test)\n",
    "\n",
    "SVR_test_1 = abs(cross_val_score(SVR_Regressor, x_test, y_test[:, 0], cv=10, scoring='neg_mean_squared_error'))\n",
    "SVR_test_2 = abs(cross_val_score(SVR_Regressor, x_test, y_test[:, 1], cv=10, scoring='neg_mean_squared_error'))\n",
    "print(f\"1st SVR Regressor Test Cross Validation Scores: {SVR_test_1}\")\n",
    "print(f\"2nd SVR Regressor Test Cross Validation Scores: {SVR_test_2}\")\n",
    "\n",
    "SVR_train_1 = abs(cross_val_score(SVR_Regressor, x_train, y_train[:, 0], cv=10, scoring='neg_mean_squared_error'))\n",
    "SVR_train_2 = abs(cross_val_score(SVR_Regressor, x_train, y_train[:, 1], cv=10, scoring='neg_mean_squared_error'))\n",
    "print(f\"1st SVR Regressor Training Cross Validation Scores: {SVR_train_1}\")\n",
    "print(f\"2nd SVR Regressor Training Cross Validation Scores: {SVR_train_2}\")"
   ]
  },
  {
   "cell_type": "markdown",
   "metadata": {
    "id": "Tbe8xA_Bg6rU"
   },
   "source": [
    "### Task 1.3 - Assessment of  Regression"
   ]
  },
  {
   "cell_type": "markdown",
   "metadata": {
    "id": "zi-E4EBig_Kh"
   },
   "source": [
    "#### Boxplot"
   ]
  },
  {
   "cell_type": "code",
   "execution_count": null,
   "metadata": {},
   "outputs": [],
   "source": [
    "Forest_DATA = [Forest_test, Forest_train]\n",
    "MLP_DATA = [MLP_test, MLP_train]\n",
    "SVR_DATA = [SVR_test_1, SVR_test_2, SVR_train_1, SVR_train_2]\n",
    "\n",
    "## Neural Network Model\n",
    "\n",
    "plt.figure()\n",
    "plt.title(\"Cross Validation - Neural Networks\")\n",
    "\n",
    "# Creating plot\n",
    "plt.boxplot(MLP_DATA)\n",
    "\n",
    "plt.xticks([1, 2], ['Test Data', 'Train Data'])\n",
    "plt.ylabel('MSE Rate')\n",
    "\n",
    "# show plot\n",
    "plt.show()\n",
    "\n",
    "## Forest Model\n",
    "\n",
    "plt.figure()\n",
    "plt.title(\"Cross Validation - Random Forest\")\n",
    "\n",
    "# Creating plot\n",
    "plt.boxplot(Forest_DATA)\n",
    "\n",
    "plt.xticks([1, 2], ['Test Data', 'Train Data'])\n",
    "plt.ylabel('MSE Rate')\n",
    "\n",
    "# show plot\n",
    "plt.show()\n",
    "\n",
    "## SVR Model\n",
    "\n",
    "plt.figure()\n",
    "plt.title(\"Cross Validation - SVR\")\n",
    "\n",
    "# Creating plot\n",
    "plt.boxplot(SVR_DATA)\n",
    "\n",
    "plt.xticks([1, 2, 3, 4], ['1st Test Data', '2nd Test Data', '1st Train Data', '2nd Train Data'])\n",
    "plt.ylabel('MSE Rate')\n",
    "\n",
    "# show plot\n",
    "plt.show()"
   ]
  },
  {
   "cell_type": "markdown",
   "id": "2640b173",
   "metadata": {},
   "source": [
    "# Assessment: Part 2 - Optimisation\n",
    "<br>\n",
    "\n",
    "## Task: Optimise a timetable so that session is scheduled once per week in such a way that timetable constraints are minimised. \n",
    "<br>\n",
    "\n",
    "### Relevant constraints for this assessment are: \n",
    "\n",
    "- A session cannot be scheduled for a time when any of its students or staff are in another session (concurrence constraints). The sessions for a module that clash are shown in the data file.\n",
    "- A lab session cannot occur in the week before its corresponding lecture has taken place (precedence constraints).\n",
    "<br>\n",
    "<br>\n",
    "\n",
    "### Packages needed:\n",
    "\n",
    "- pandas\n",
    "- numpy\n",
    "- matplotlib"
   ]
  },
  {
   "cell_type": "markdown",
   "id": "2ba8d563",
   "metadata": {},
   "source": [
    "### 2.1 – Generation of random solutions"
   ]
  },
  {
   "cell_type": "markdown",
   "id": "877f99d5",
   "metadata": {},
   "source": [
    "#### Importing libraries"
   ]
  },
  {
   "cell_type": "code",
   "execution_count": 14,
   "id": "98837a56",
   "metadata": {},
   "outputs": [],
   "source": [
    "import numpy as np\n",
    "import random\n",
    "import matplotlib.pyplot as plt"
   ]
  },
  {
   "cell_type": "markdown",
   "id": "e42a1d54",
   "metadata": {},
   "source": [
    "#### Reading the file and splitting it"
   ]
  },
  {
   "cell_type": "code",
   "execution_count": 15,
   "id": "90382d98",
   "metadata": {},
   "outputs": [
    {
     "name": "stdout",
     "output_type": "stream",
     "text": [
      "Modules List: ['MOD001', 'MOD002', 'MOD003', 'MOD004', 'MOD005', 'MOD006', 'MOD007', 'MOD008', 'MOD009', 'MOD010', 'MOD011', 'MOD012', 'MOD013', 'MOD014', 'MOD015', 'MOD016', 'MOD017']\n",
      "Number of Labs per Module List: [2, 2, 2, 1, 2, 3, 1, 2, 3, 2, 2, 2, 1, 2, 2, 1, 1]\n",
      "Modules Clashes with: MOD001 clashes with [['MOD002', 'MOD003', 'MOD004', 'MOD005', 'MOD006', 'MOD007', 'MOD008', 'MOD009', 'MOD010', 'MOD013']] \n",
      "Modules Clashes with: MOD002 clashes with [['MOD001', 'MOD003', 'MOD004', 'MOD005', 'MOD006', 'MOD007', 'MOD008', 'MOD009', 'MOD010', 'MOD013']] \n",
      "Modules Clashes with: MOD003 clashes with [['MOD001', 'MOD002', 'MOD004', 'MOD005', 'MOD006', 'MOD007', 'MOD008', 'MOD009', 'MOD010', 'MOD011', 'MOD012', 'MOD013']] \n",
      "Modules Clashes with: MOD004 clashes with [['MOD001', 'MOD002', 'MOD003', 'MOD005', 'MOD006', 'MOD007', 'MOD008', 'MOD009', 'MOD010', 'MOD011', 'MOD012', 'MOD013']] \n",
      "Modules Clashes with: MOD005 clashes with [['MOD001', 'MOD002', 'MOD003', 'MOD004', 'MOD006', 'MOD007', 'MOD008', 'MOD009', 'MOD010', 'MOD011', 'MOD012']] \n",
      "Modules Clashes with: MOD006 clashes with [['MOD001', 'MOD002', 'MOD003', 'MOD004', 'MOD005', 'MOD007', 'MOD008', 'MOD009', 'MOD010', 'MOD011', 'MOD012']] \n",
      "Modules Clashes with: MOD007 clashes with [['MOD001', 'MOD002', 'MOD003', 'MOD004', 'MOD005', 'MOD006', 'MOD008', 'MOD009', 'MOD010', 'MOD011', 'MOD014', 'MOD015', 'MOD016', 'MOD017']] \n",
      "Modules Clashes with: MOD008 clashes with [['MOD001', 'MOD002', 'MOD003', 'MOD004', 'MOD005', 'MOD006', 'MOD007', 'MOD009', 'MOD010', 'MOD011', 'MOD012', 'MOD014', 'MOD015']] \n",
      "Modules Clashes with: MOD009 clashes with [['MOD001', 'MOD002', 'MOD003', 'MOD004', 'MOD005', 'MOD006', 'MOD007', 'MOD008', 'MOD010', 'MOD011', 'MOD012', 'MOD013']] \n",
      "Modules Clashes with: MOD010 clashes with [['MOD001', 'MOD002', 'MOD003', 'MOD004', 'MOD005', 'M0D006', 'MOD007', 'MOD008', 'MOD009', 'MOD013']] \n",
      "Modules Clashes with: MOD011 clashes with [['MOD003', 'MOD004', 'MOD005', 'MOD006', 'MOD007', 'MOD008', 'MOD009', 'MOD012', 'MOD014', 'MOD015', 'MOD016', 'MOD017']] \n",
      "Modules Clashes with: MOD012 clashes with [['MOD003', 'MOD04', 'MOD005', 'MOD006', 'MOD007', 'MOD008', 'MOD009', 'MOD011', 'MOD014', 'MOD015']] \n",
      "Modules Clashes with: MOD013 clashes with [['MOD001', 'MOD002', 'MOD003', 'MOD004', 'MOD009', 'MOD010']] \n",
      "Modules Clashes with: MOD014 clashes with [['MOD007', 'MOD008', 'M0D011', 'MOD012', 'MOD015', 'MOD016', 'MOD017']] \n",
      "Modules Clashes with: MOD015 clashes with [['MOD007', 'MOD008', 'MOD011', 'MOD012', 'MOD014', 'MOD016', 'MOD017']] \n",
      "Modules Clashes with: MOD016 clashes with [['MOD007', 'MOD008', 'MOD011', 'MOD012', 'MOD014', 'MOD015', 'MOD017']] \n",
      "Modules Clashes with: MOD017 clashes with [['MOD007', 'MOD008', 'MOD011', 'MOD012', 'MOD014', 'MOD015', 'MOD016']] \n"
     ]
    }
   ],
   "source": [
    "filepath = \"./Modules.txt\"\n",
    "\n",
    "#Read file\n",
    "file = open(filepath, 'r')\n",
    "contents = file.read()\n",
    "file.close()\n",
    "\n",
    "#split it on each line\n",
    "fileContents = contents.split(\"\\n\")\n",
    "\n",
    "#different arrays\n",
    "module_clashes = []\n",
    "modules = []\n",
    "labs = []\n",
    "amount_labs = []\n",
    "\n",
    "#put respective elements into array\n",
    "for i in range(len(fileContents)):\n",
    "    module_clashes.append(fileContents[i].split(\"|\"))\n",
    "    modules.append(module_clashes[i].pop(0))\n",
    "    module_clashes[i].pop(0)\n",
    "    labs.append(module_clashes[i].pop(0))\n",
    "\n",
    "#split the module clashes into individual elements\n",
    "for x in range(len(module_clashes)):\n",
    "    module_clashes[x].append(module_clashes[x][0].split(\",\"))\n",
    "    module_clashes[x].pop(0)\n",
    "\n",
    "# put the number of labs into an int list\n",
    "for i in range(len(labs)):\n",
    "    amount_labs.append(int(labs[i][0]))\n",
    "\n",
    "\n",
    "print(f\"Modules List: {modules}\")\n",
    "print(f\"Number of Labs per Module List: {amount_labs}\")\n",
    "for i in range(len(modules)):\n",
    "    print(f\"Modules Clashes with: {modules[i]} clashes with {module_clashes[i]} \")"
   ]
  },
  {
   "cell_type": "markdown",
   "id": "ff4d6bdd",
   "metadata": {},
   "source": [
    "#### Concurrent Constraints - A session cannot be scheduled for a time when any of its students or staff are in another session\n",
    "\n",
    "#### Precedence Constraints - A lab session cannot occur in the week before its corresponding lecture has taken place"
   ]
  },
  {
   "cell_type": "code",
   "execution_count": 16,
   "id": "61ca2da5",
   "metadata": {},
   "outputs": [],
   "source": [
    "def concurrent_clashes(lab, module):\n",
    "\n",
    "    concurrent_constraints = 0\n",
    "    precedence_constraints = 0\n",
    "\n",
    "    #take shortest length\n",
    "    if len(lab) < len(module):\n",
    "        count = len(lab)\n",
    "    else:\n",
    "        count = len(module)\n",
    "\n",
    "    # check here for both constraints. First for loop looks for if two sessions have the same time period\n",
    "    # second for loop looks for if the lab session occurs before the lecture of that module\n",
    "    for i in range(count):\n",
    "        if module[i] == lab[i]:\n",
    "            concurrent_constraints = concurrent_constraints + 1\n",
    "        for j in range(i):\n",
    "            if j < i:\n",
    "                if module[j] == lab[j]:\n",
    "                    precedence_constraints = precedence_constraints + 1\n",
    "                    break\n",
    "\n",
    "    return concurrent_constraints, precedence_constraints"
   ]
  },
  {
   "cell_type": "markdown",
   "id": "ff4d6bdd",
   "metadata": {},
   "source": [
    "#### Concurrent Constraints - A session cannot be scheduled for a time when any of its students or staff are in another session"
   ]
  },
  {
   "cell_type": "code",
   "execution_count": 17,
   "id": "d1936d41",
   "metadata": {},
   "outputs": [],
   "source": [
    "def modules_clashes(lab, clash, module):\n",
    "\n",
    "    concurrent_constraints = 0\n",
    "    module_element = np.array_split(modules, 17)\n",
    "    \n",
    "    for i in range(len(module_element)):\n",
    "        for j in range(len(clash[i])):\n",
    "            module_element[i] = np.concatenate([module_element[i], clash[i][j]])\n",
    "\n",
    "    #take shortest length\n",
    "    if len(lab) < len(module):\n",
    "        count = len(lab)\n",
    "    else:\n",
    "        count = len(module)\n",
    "\n",
    "    #find matching module\n",
    "    for i in range(count):\n",
    "        for j in range(len(module_element)):\n",
    "            if module[i] == module_element[j][0]:\n",
    "                if lab[i] is not None and lab[i] in module_element[j] and lab[i] != module_element[j][0]:\n",
    "                    concurrent_constraints = concurrent_constraints + 1\n",
    "                    break\n",
    "\n",
    "    return concurrent_constraints"
   ]
  },
  {
   "cell_type": "markdown",
   "id": "8207644d",
   "metadata": {},
   "source": [
    "#### Total Constraints"
   ]
  },
  {
   "cell_type": "code",
   "execution_count": 18,
   "id": "d653f4d8",
   "metadata": {},
   "outputs": [],
   "source": [
    "def total_constraints(timetable, clash):\n",
    "\n",
    "    # we generate our int lists of constraints here \n",
    "    # concurrent has 4 because there is 2 rows of labs for each function to calculate the amount of concurrent constraints\n",
    "    # whereas precedence constraints happen less often than concurrent constraints\n",
    "    concurrent_constraints = [int] * 4\n",
    "    precedence_constraints = [int] * 2\n",
    "    total_concurrent_constraints = 0\n",
    "    total_precedence_constraints = 0\n",
    "\n",
    "    # calculating the number of constraints for each module and lab\n",
    "    concurrent_constraints[0], precedence_constraints[0] = concurrent_clashes(timetable[1], timetable[0])\n",
    "    concurrent_constraints[1], precedence_constraints[1] = concurrent_clashes(timetable[2], timetable[0])\n",
    "    concurrent_constraints[2] = modules_clashes(timetable[1], clash, timetable[0])\n",
    "    concurrent_constraints[3] = modules_clashes(timetable[2], clash, timetable[0])\n",
    "\n",
    "    #totalling constraints\n",
    "    for x in range(len(concurrent_constraints)):\n",
    "        total_concurrent_constraints = total_concurrent_constraints + concurrent_constraints[x]\n",
    "    for y in range(len(precedence_constraints)):\n",
    "        total_precedence_constraints = total_precedence_constraints + precedence_constraints[y]\n",
    "\n",
    "    return total_concurrent_constraints, total_precedence_constraints"
   ]
  },
  {
   "cell_type": "markdown",
   "id": "2412863a",
   "metadata": {},
   "source": [
    "#### Calculating fitness"
   ]
  },
  {
   "cell_type": "code",
   "execution_count": 19,
   "id": "05d08918",
   "metadata": {},
   "outputs": [],
   "source": [
    "def return_fitness(timetable): \n",
    "\n",
    "    total_concurrent_constraints, total_precedence_constraints = total_constraints(timetable, module_clashes)\n",
    "    #add 1 to stop fitness being 0 if one is zero to false advertise that a solution is the best solution\n",
    "    fitness = (total_concurrent_constraints + 1) * (total_precedence_constraints + 1)\n",
    "\n",
    "    return(fitness)"
   ]
  },
  {
   "cell_type": "markdown",
   "id": "71518a51",
   "metadata": {},
   "source": [
    "#### Generating random timetable"
   ]
  },
  {
   "cell_type": "code",
   "execution_count": 20,
   "id": "e551f134",
   "metadata": {},
   "outputs": [],
   "source": [
    "def generate_timetable():\n",
    "    \n",
    "    #lists\n",
    "    lectures = []\n",
    "    lab_1 = []\n",
    "    lab_2 = []\n",
    "    lab_sessions = []\n",
    "\n",
    "    #generating X of lab sessions per module\n",
    "    for i in range(len(modules)):\n",
    "        for j in range(len(labs[i])):\n",
    "            lab_sessions.append(modules[i])\n",
    "\n",
    "    #add each module into a lecture array \n",
    "    for i in range(len(modules)):\n",
    "        lectures.append(modules[i])\n",
    "\n",
    "    # as we have 40 lab slots in our timetable and we have 31 lab sessions it will put in the amount of labs per module that we generated above\n",
    "    for i in range(len(lab_sessions)):\n",
    "        if i <= 20:\n",
    "            lab_1.append(lab_sessions[i])\n",
    "        if i > 20 and i < len(lab_sessions):\n",
    "            lab_2.append(lab_sessions[i])\n",
    "\n",
    "    #array for timetable\n",
    "    timetable = np.empty([20, 3], dtype=object)\n",
    "    \n",
    "    #fill each column\n",
    "    for i in range(len(lectures)):\n",
    "        timetable[i][0] = lectures[i]\n",
    "    for i in range(len(lab_1)):\n",
    "        timetable[i][1] = lab_1[i]\n",
    "    for i in range(len(lab_2)):\n",
    "        timetable[i][2] = lab_2[i]\n",
    "\n",
    "    # Shuffle the lectures and labs so the solution is random.\n",
    "    random.shuffle(timetable[0])\n",
    "    random.shuffle(timetable[1])\n",
    "    random.shuffle(timetable[2])\n",
    "    \n",
    "    #get fitness of current timetable\n",
    "    fitness = return_fitness(timetable)\n",
    "    \n",
    "    return timetable, fitness\n"
   ]
  },
  {
   "cell_type": "markdown",
   "id": "142540d2",
   "metadata": {},
   "source": [
    "### 2.2 – Algorithm implementation"
   ]
  },
  {
   "cell_type": "markdown",
   "id": "ff4d6bdd",
   "metadata": {},
   "source": [
    "#### Ruin and Recreate Mutation - generates a completely new solution at random"
   ]
  },
  {
   "cell_type": "code",
   "execution_count": 21,
   "id": "da893fbc",
   "metadata": {},
   "outputs": [],
   "source": [
    "def ruin_recreate(parent):\n",
    "    #make a copy\n",
    "    child = parent.copy()\n",
    "    #generate a new solution\n",
    "    for i in range(len(child)):\n",
    "        random.shuffle(child[i])\n",
    "    return child"
   ]
  },
  {
   "cell_type": "markdown",
   "id": "ff4d6bdd",
   "metadata": {},
   "source": [
    "#### Session Replace Mutation - placing a session into another slot in the timetable"
   ]
  },
  {
   "cell_type": "code",
   "execution_count": 22,
   "id": "7eeba6c4",
   "metadata": {},
   "outputs": [],
   "source": [
    "def session_replace(parent):\n",
    "    #make a copy\n",
    "    child = parent.copy()\n",
    "\n",
    "    #randomly pick a cell in a timetable\n",
    "    column = random.randint(0, 2)\n",
    "    lab_session_1 = random.randint(0, 19)\n",
    "    lab_session_2 = random.randint(0, 19)\n",
    "    \n",
    "    #then replace session\n",
    "    if column == 1 or column == 2:\n",
    "        idx_2 = random.randint(1, 2)\n",
    "        child[lab_session_1][column], child[lab_session_2][idx_2] = child[lab_session_2][idx_2], child[lab_session_1][column]\n",
    "    else:\n",
    "        child[lab_session_1][column], child[lab_session_2][column] = child[lab_session_2][column], child[lab_session_1][column]\n",
    "    return child"
   ]
  },
  {
   "cell_type": "code",
   "execution_count": 23,
   "id": "87dafa34",
   "metadata": {},
   "outputs": [],
   "source": [
    "def less_than_equal(a ,b):\n",
    "    return a <= b"
   ]
  },
  {
   "cell_type": "markdown",
   "id": "ff4d6bdd",
   "metadata": {},
   "source": [
    "#### Hillclimber:\n",
    "\n",
    "- generating random solution\n",
    "- using either mutation\n",
    "- generate a child through mutation\n",
    "- compare parent and child's fitness\n",
    "- return best fitness"
   ]
  },
  {
   "cell_type": "code",
   "execution_count": 24,
   "id": "7f2f38b1",
   "metadata": {},
   "outputs": [],
   "source": [
    "def hillclimber(N, generate_timetable, mutation, comparison, run_number, iteration_fitness):\n",
    "\n",
    "    #random solution\n",
    "    parent, parent_fitness = generate_timetable()\n",
    "    timetable = []\n",
    "    for i in range(N):\n",
    "\n",
    "        #return last generated timetable as an example\n",
    "        if i == N - 1:\n",
    "            timetable.append(parent)\n",
    "\n",
    "        iteration_fitness[i][run_number] = parent_fitness\n",
    "        \n",
    "        # Generate child through mutation\n",
    "        child = mutation(parent)\n",
    "\n",
    "        # Evaluate fitness\n",
    "        child_fitness = return_fitness(child)\n",
    "\n",
    "        # compare parent and child\n",
    "        if comparison(child_fitness, parent_fitness):\n",
    "            parent = child\n",
    "            parent_fitness = child_fitness\n",
    "\n",
    "    return parent, parent_fitness, timetable"
   ]
  },
  {
   "cell_type": "markdown",
   "id": "1f4490af",
   "metadata": {},
   "source": [
    "###  2.3 – Visualisation of results"
   ]
  },
  {
   "cell_type": "markdown",
   "metadata": {},
   "source": [
    "#### Plotting results"
   ]
  },
  {
   "cell_type": "code",
   "execution_count": 25,
   "id": "47d68205",
   "metadata": {},
   "outputs": [],
   "source": [
    "def plot_graph(RuinAndRecreate_fitness, SessionReplace_fitness):\n",
    "\n",
    "    #lists\n",
    "    Average_RuinAndRecreate_fitness = []\n",
    "    Average_SessionReplace_fitness = []\n",
    "    Min_RuinAndRecreate_fitness = []\n",
    "    Min_SessionReplace_fitness = []\n",
    "    Max_RuinAndRecreate_fitness = []\n",
    "    Max_SessionReplace_fitness = []\n",
    "    \n",
    "    #average\n",
    "    for x in range(500):\n",
    "        total1 = 0\n",
    "        total2 = 0\n",
    "        for y in range(30):\n",
    "            total1 = total1 + RuinAndRecreate_fitness[x][y]\n",
    "            total2 = total2 + SessionReplace_fitness[x][y]\n",
    "        Average_RuinAndRecreate_fitness.append(total1 / len(RuinAndRecreate_fitness[x]))\n",
    "        Average_SessionReplace_fitness.append(total2 / len(SessionReplace_fitness[x]))\n",
    "\n",
    "    #sorted arrays templates\n",
    "    sort1 = []\n",
    "    sort2 = []\n",
    "    #min and max values\n",
    "    for x in range(500):\n",
    "        sort1.append(sorted(RuinAndRecreate_fitness[x]))\n",
    "        sort2.append(sorted(SessionReplace_fitness[x]))\n",
    "        Min_RuinAndRecreate_fitness.append(sort1[x][0])\n",
    "        Min_SessionReplace_fitness.append(sort2[x][0])\n",
    "        Max_RuinAndRecreate_fitness.append(sort1[x][-1])\n",
    "        Max_SessionReplace_fitness.append(sort2[x][-1])\n",
    "        \n",
    "\n",
    "        \n",
    "    # Plot the data in to a graph\n",
    "    iterations = np.arange(500)\n",
    "\n",
    "    plt.plot(iterations, Max_RuinAndRecreate_fitness, label = \"Ruin and Recreate Max Fitness\")\n",
    "    plt.plot(iterations, Average_RuinAndRecreate_fitness, label = \"Ruin and Recreate Average Fitness\")\n",
    "    plt.plot(iterations, Min_RuinAndRecreate_fitness, label = \"Ruin and Recreate Min Fitness\")\n",
    "\n",
    "    plt.plot(iterations, Max_SessionReplace_fitness, label = \"Session Replace Max Fitness\")\n",
    "    plt.plot(iterations, Average_SessionReplace_fitness, label = \"Session Replace Average Fitness\")\n",
    "    plt.plot(iterations, Min_SessionReplace_fitness, label = \"Session Replace Min Fitness\")\n",
    "\n",
    "    plt.title(\"Timetable Fitness Scores\")\n",
    "    plt.xlabel(\"Iteration\")\n",
    "    plt.ylabel(\"Fitness Score\")\n",
    "    plt.legend(loc=(1,0.5))\n",
    "    plt.show()\n"
   ]
  },
  {
   "cell_type": "markdown",
   "metadata": {},
   "source": [
    "#### Running hillclimbers and displaying results"
   ]
  },
  {
   "cell_type": "code",
   "execution_count": 26,
   "id": "398b3bc8",
   "metadata": {},
   "outputs": [
    {
     "name": "stdout",
     "output_type": "stream",
     "text": [
      "Ruin and Recreate: [3, 3, 3, 3, 3, 3, 3, 3, 3, 3, 3, 3, 3, 3, 3, 3, 3, 3, 3, 3, 3, 3, 3, 3, 3, 3, 3, 3, 3, 3]\n",
      "Session Replace: [1, 1, 1, 1, 1, 1, 1, 1, 1, 1, 1, 1, 1, 1, 1, 1, 1, 1, 1, 1, 1, 1, 1, 1, 1, 1, 1, 1, 1, 1]\n",
      "Example timetable using Ruin and Recreate: \n",
      "[array([['MOD001', 'MOD001', None],\n",
      "       [None, 'MOD002', 'MOD002'],\n",
      "       ['MOD003', None, 'MOD003'],\n",
      "       [None, 'MOD004', 'MOD004'],\n",
      "       [None, 'MOD005', 'MOD005'],\n",
      "       [None, 'MOD006', 'MOD006'],\n",
      "       ['MOD007', None, 'MOD007'],\n",
      "       ['MOD008', None, 'MOD008'],\n",
      "       ['MOD009', 'MOD009', None],\n",
      "       [None, 'MOD010', 'MOD010'],\n",
      "       [None, 'MOD011', 'MOD011'],\n",
      "       ['MOD012', None, 'MOD012'],\n",
      "       ['MOD013', 'MOD013', None],\n",
      "       ['MOD014', 'MOD014', None],\n",
      "       ['MOD015', None, 'MOD015'],\n",
      "       ['MOD016', 'MOD016', None],\n",
      "       [None, 'MOD017', 'MOD017'],\n",
      "       [None, None, None],\n",
      "       [None, None, None],\n",
      "       [None, None, None]], dtype=object)]\n",
      "Example timetable using Session Replace: \n",
      "[array([['MOD015', None, 'MOD011'],\n",
      "       ['MOD006', 'MOD016', None],\n",
      "       ['MOD002', 'MOD006', None],\n",
      "       ['MOD017', None, None],\n",
      "       ['MOD011', None, 'MOD017'],\n",
      "       ['MOD012', 'MOD010', None],\n",
      "       [None, 'MOD004', 'MOD005'],\n",
      "       ['MOD016', None, 'MOD012'],\n",
      "       [None, None, 'MOD001'],\n",
      "       ['MOD004', 'MOD015', 'MOD014'],\n",
      "       [None, None, None],\n",
      "       ['MOD005', 'MOD001', None],\n",
      "       ['MOD010', 'MOD007', None],\n",
      "       [None, None, None],\n",
      "       ['MOD014', None, 'MOD002'],\n",
      "       ['MOD013', None, 'MOD009'],\n",
      "       ['MOD007', None, None],\n",
      "       ['MOD009', 'MOD003', None],\n",
      "       ['MOD008', 'MOD013', 'MOD008'],\n",
      "       ['MOD003', None, None]], dtype=object)]\n"
     ]
    },
    {
     "data": {
      "image/png": "[encoded data removed]",
      "text/plain": [
       "<Figure size 432x288 with 1 Axes>"
      ]
     },
     "metadata": {
      "needs_background": "light"
     },
     "output_type": "display_data"
    }
   ],
   "source": [
    "def results():\n",
    "\n",
    "    #int arrays for fitness results\n",
    "    RuinNRecreate = np.empty([500, 30], dtype = int)\n",
    "    SessionReplace = np.empty([500, 30], dtype = int)\n",
    "\n",
    "    #array for timetable\n",
    "    timetableRR = np.empty([20, 3], dtype=object)\n",
    "    timetableSS = np.empty([20, 3], dtype=object)\n",
    "\n",
    "\n",
    "    sessionReplaceList = []\n",
    "    RuinNRecreateList = []\n",
    "    \n",
    "    #run each hillclimber for 30 times\n",
    "    for nth in range(30):\n",
    "\n",
    "        # Run hillclimber here\n",
    "        solution, fitness, timetable = hillclimber(500, generate_timetable, ruin_recreate, less_than_equal, nth, RuinNRecreate)\n",
    "        solution2, fitness2, timetable2 = hillclimber(500, generate_timetable, session_replace, less_than_equal, nth, SessionReplace)\n",
    "        sessionReplaceList.append(fitness2)\n",
    "        RuinNRecreateList.append(fitness)\n",
    "        timetableRR = (timetable)\n",
    "        timetableSS =(timetable2)\n",
    "\n",
    "    print(f\"Ruin and Recreate: {RuinNRecreateList}\")\n",
    "    print(f\"Session Replace: {sessionReplaceList}\")\n",
    "    print(f\"Example timetable using Ruin and Recreate: \\n{timetableRR}\")\n",
    "    print(f\"Example timetable using Session Replace: \\n{timetableSS}\")\n",
    "    \n",
    "    plot_graph(RuinNRecreate, SessionReplace)\n",
    "    \n",
    "results()"
   ]
  },
  {
   "cell_type": "markdown",
   "id": "bdd91cb1",
   "metadata": {},
   "source": [
    "#### Conclusion\n",
    "\n",
    "The results show that the Session Replace operator is significantly better for optimising a timetable. As you can see, the maximum fitness of the Session Replace operator has levelled out better than the best fitness of the Ruin and Recreate operator after about 225 iterations. And also the Session Replace fitnesses seems to decrease exponentially over time, this is due to replacing the sessions that are causing the constraints to tally up which correlates to the fitness of the operator. Whereas the Ruin and Recreate operator destroys the existing solution and generates a new solution.\n"
   ]
  }
 ],
 "metadata": {
  "colab": {
   "name": "Assessment_2_Machine_Learning_and_Optimisation.ipynb",
   "provenance": []
  },
  "kernelspec": {
   "display_name": "Python 3 (ipykernel)",
   "language": "python",
   "name": "python3"
  },
  "language_info": {
   "codemirror_mode": {
    "name": "ipython",
    "version": 3
   },
   "file_extension": ".py",
   "mimetype": "text/x-python",
   "name": "python",
   "nbconvert_exporter": "python",
   "pygments_lexer": "ipython3",
   "version": "3.9.5"
  }
 },
 "nbformat": 4,
 "nbformat_minor": 1
}
