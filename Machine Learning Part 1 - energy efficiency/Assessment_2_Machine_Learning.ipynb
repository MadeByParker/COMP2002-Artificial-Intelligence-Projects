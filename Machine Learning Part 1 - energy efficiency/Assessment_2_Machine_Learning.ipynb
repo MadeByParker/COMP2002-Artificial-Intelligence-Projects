{
 "cells": [
  {
   "cell_type": "markdown",
   "metadata": {
    "id": "CBdcIQ7nLzNj"
   },
   "source": [
    "# Assessment 2 - Part 1: Machine Learning\n",
    "<br>\n",
    "\n",
    "## Task: train regression models that predict two indicators of energy efficiency based on 8 numerical inputs. \n",
    "<br>\n",
    "\n",
    "### Packages needed:\n",
    "\n",
    "- pandas\n",
    "- sklearn\n",
    "- numpy\n",
    "- matplotlib"
   ]
  },
  {
   "cell_type": "markdown",
   "metadata": {
    "id": "XLc-NOz1L7Y6"
   },
   "source": [
    "### 1.1 - Data Preparation"
   ]
  },
  {
   "cell_type": "markdown",
   "metadata": {
    "id": "DkUjx-nTMdt0"
   },
   "source": [
    "#### Importing libraries"
   ]
  },
  {
   "cell_type": "code",
   "execution_count": 3,
   "metadata": {
    "id": "V7FOfSRQL_gM"
   },
   "outputs": [
    {
     "name": "stdout",
     "output_type": "stream",
     "text": [
      "imported libraries\n"
     ]
    }
   ],
   "source": [
    "## Imports\n",
    "from sklearn.model_selection import train_test_split\n",
    "from sklearn.metrics import accuracy_score\n",
    "import numpy as np\n",
    "import pandas as pd\n",
    "import math\n",
    "import matplotlib.pyplot as plt\n",
    "\n",
    "## Used for normalising the data\n",
    "from sklearn import preprocessing\n",
    "from sklearn.preprocessing import MinMaxScaler\n",
    "\n",
    "## Used for regression\n",
    "from sklearn.neural_network import MLPRegressor\n",
    "from sklearn.ensemble import RandomForestRegressor\n",
    "from sklearn.svm import SVR\n",
    "\n",
    "## Used for assessment of regression\n",
    "from sklearn.metrics import mean_squared_error\n",
    "\n",
    "## Used for cross validation\n",
    "from sklearn.model_selection import KFold\n",
    "from sklearn.model_selection import cross_val_score\n",
    "\n",
    "print(\"imported libraries\")"
   ]
  },
  {
   "cell_type": "markdown",
   "metadata": {
    "id": "jsbY820IMwiI"
   },
   "source": [
    "#### Loading the dataset"
   ]
  },
  {
   "cell_type": "code",
   "execution_count": 4,
   "metadata": {
    "colab": {
     "base_uri": "https://localhost:8080/",
     "height": 414
    },
    "id": "cCoxW9vZM3ti",
    "outputId": "920b65b1-d76c-4b31-d1a0-4b1c52b14c01"
   },
   "outputs": [
    {
     "data": {
      "text/html": [
       "<div>\n",
       "<style scoped>\n",
       "    .dataframe tbody tr th:only-of-type {\n",
       "        vertical-align: middle;\n",
       "    }\n",
       "\n",
       "    .dataframe tbody tr th {\n",
       "        vertical-align: top;\n",
       "    }\n",
       "\n",
       "    .dataframe thead th {\n",
       "        text-align: right;\n",
       "    }\n",
       "</style>\n",
       "<table border=\"1\" class=\"dataframe\">\n",
       "  <thead>\n",
       "    <tr style=\"text-align: right;\">\n",
       "      <th></th>\n",
       "      <th>X1</th>\n",
       "      <th>X2</th>\n",
       "      <th>X3</th>\n",
       "      <th>X4</th>\n",
       "      <th>X5</th>\n",
       "      <th>X6</th>\n",
       "      <th>X7</th>\n",
       "      <th>X8</th>\n",
       "      <th>Y1</th>\n",
       "      <th>Y2</th>\n",
       "    </tr>\n",
       "  </thead>\n",
       "  <tbody>\n",
       "    <tr>\n",
       "      <th>0</th>\n",
       "      <td>0.98</td>\n",
       "      <td>514.5</td>\n",
       "      <td>294.0</td>\n",
       "      <td>110.25</td>\n",
       "      <td>7.0</td>\n",
       "      <td>2</td>\n",
       "      <td>0.0</td>\n",
       "      <td>0</td>\n",
       "      <td>15.55</td>\n",
       "      <td>21.33</td>\n",
       "    </tr>\n",
       "    <tr>\n",
       "      <th>1</th>\n",
       "      <td>0.98</td>\n",
       "      <td>514.5</td>\n",
       "      <td>294.0</td>\n",
       "      <td>110.25</td>\n",
       "      <td>7.0</td>\n",
       "      <td>3</td>\n",
       "      <td>0.0</td>\n",
       "      <td>0</td>\n",
       "      <td>15.55</td>\n",
       "      <td>21.33</td>\n",
       "    </tr>\n",
       "    <tr>\n",
       "      <th>2</th>\n",
       "      <td>0.98</td>\n",
       "      <td>514.5</td>\n",
       "      <td>294.0</td>\n",
       "      <td>110.25</td>\n",
       "      <td>7.0</td>\n",
       "      <td>4</td>\n",
       "      <td>0.0</td>\n",
       "      <td>0</td>\n",
       "      <td>15.55</td>\n",
       "      <td>21.33</td>\n",
       "    </tr>\n",
       "    <tr>\n",
       "      <th>3</th>\n",
       "      <td>0.98</td>\n",
       "      <td>514.5</td>\n",
       "      <td>294.0</td>\n",
       "      <td>110.25</td>\n",
       "      <td>7.0</td>\n",
       "      <td>5</td>\n",
       "      <td>0.0</td>\n",
       "      <td>0</td>\n",
       "      <td>15.55</td>\n",
       "      <td>21.33</td>\n",
       "    </tr>\n",
       "    <tr>\n",
       "      <th>4</th>\n",
       "      <td>0.90</td>\n",
       "      <td>563.5</td>\n",
       "      <td>318.5</td>\n",
       "      <td>122.50</td>\n",
       "      <td>7.0</td>\n",
       "      <td>2</td>\n",
       "      <td>0.0</td>\n",
       "      <td>0</td>\n",
       "      <td>20.84</td>\n",
       "      <td>28.28</td>\n",
       "    </tr>\n",
       "  </tbody>\n",
       "</table>\n",
       "</div>"
      ],
      "text/plain": [
       "     X1     X2     X3      X4   X5  X6   X7  X8     Y1     Y2\n",
       "0  0.98  514.5  294.0  110.25  7.0   2  0.0   0  15.55  21.33\n",
       "1  0.98  514.5  294.0  110.25  7.0   3  0.0   0  15.55  21.33\n",
       "2  0.98  514.5  294.0  110.25  7.0   4  0.0   0  15.55  21.33\n",
       "3  0.98  514.5  294.0  110.25  7.0   5  0.0   0  15.55  21.33\n",
       "4  0.90  563.5  318.5  122.50  7.0   2  0.0   0  20.84  28.28"
      ]
     },
     "execution_count": 4,
     "metadata": {},
     "output_type": "execute_result"
    }
   ],
   "source": [
    "energy_data = pd.read_excel(\"data.xlsx\")\n",
    "\n",
    "energy_data.head()"
   ]
  },
  {
   "cell_type": "markdown",
   "metadata": {},
   "source": [
    "#### Extracting and splitting data"
   ]
  },
  {
   "cell_type": "code",
   "execution_count": 5,
   "metadata": {},
   "outputs": [
    {
     "name": "stdout",
     "output_type": "stream",
     "text": [
      "scaled data\n"
     ]
    }
   ],
   "source": [
    "## Extracting Data\n",
    "\n",
    "#inputs\n",
    "inputs = energy_data.values[:,:8].astype(float)\n",
    "\n",
    "#normalise the inputs\n",
    "scaler = MinMaxScaler()\n",
    "scaled_inputs = scaler.fit_transform(inputs)\n",
    "\n",
    "#targets\n",
    "targets_Y1 = energy_data[\"Y1\"]\n",
    "targets_Y2 = energy_data[\"Y2\"]\n",
    "targets =  energy_data.values[:,8:].astype(float)\n",
    "\n",
    "print(\"scaled data\")"
   ]
  },
  {
   "cell_type": "markdown",
   "metadata": {},
   "source": [
    "#### Random Sample generator"
   ]
  },
  {
   "cell_type": "code",
   "execution_count": 6,
   "metadata": {},
   "outputs": [
    {
     "name": "stdout",
     "output_type": "stream",
     "text": [
      "     X1     X2     X3      X4   X5  X6    X7  X8     Y1     Y2\n",
      "0  0.62  808.5  367.5  220.50  3.5   5  0.25   2  14.60  15.30\n",
      "1  0.90  563.5  318.5  122.50  7.0   3  0.10   2  29.68  29.44\n",
      "2  0.71  710.5  269.5  220.50  3.5   5  0.25   4  12.28  15.64\n",
      "3  0.98  514.5  294.0  110.25  7.0   5  0.40   4  32.74  33.88\n",
      "4  0.90  563.5  318.5  122.50  7.0   4  0.25   2  32.33  32.77\n"
     ]
    }
   ],
   "source": [
    "sample = energy_data.sample(frac=1).reset_index(drop=True)\n",
    "\n",
    "print( sample.head())"
   ]
  },
  {
   "cell_type": "markdown",
   "metadata": {},
   "source": [
    "#### Setting up train and test data"
   ]
  },
  {
   "cell_type": "code",
   "execution_count": 7,
   "metadata": {},
   "outputs": [
    {
     "name": "stdout",
     "output_type": "stream",
     "text": [
      "set up train and test data\n"
     ]
    }
   ],
   "source": [
    "#set up data\n",
    "x_train, x_test, y_joint_train, y_joint_test = train_test_split(scaled_inputs, targets, test_size=0.3)\n",
    "x1_train, x1_test, y1_train, y1_test = train_test_split(scaled_inputs, targets_Y1, test_size=0.3)\n",
    "x2_train, x2_test, y2_train, y2_test = train_test_split(scaled_inputs,targets_Y2, test_size=0.3)\n",
    "\n",
    "print(\"set up train and test data\")"
   ]
  },
  {
   "cell_type": "markdown",
   "metadata": {
    "id": "_UbBOF8YOjX4"
   },
   "source": [
    "### Task 1.2 - Regression"
   ]
  },
  {
   "cell_type": "markdown",
   "metadata": {
    "id": "qLxHfij9O5vX"
   },
   "source": [
    "#### Regression using the \"sklearn.neural_network.MLPRegressor\""
   ]
  },
  {
   "cell_type": "code",
   "execution_count": 9,
   "metadata": {
    "id": "6agXlDk9Oosv"
   },
   "outputs": [
    {
     "name": "stdout",
     "output_type": "stream",
     "text": [
      "[16.20939596 10.28982448  6.66842684 15.49162158 17.18668986 11.92337926\n",
      " 11.62245768 10.6605699  16.07778821 12.88750386]\n",
      "[8.7437944  7.05721733 1.38187999 1.95175357 4.3386912  6.25013752\n",
      " 6.52999162 5.36780887 6.64665345 5.14780621]\n"
     ]
    }
   ],
   "source": [
    "MLP = MLPRegressor(max_iter=20000)\n",
    "MLP.fit(x_train, y_joint_train)\n",
    "MLP_Outputs = MLP.predict(x_train)\n",
    "\n",
    "MLP_CV = abs(cross_val_score(MLP, x_test, y_joint_test, cv=10, scoring='neg_mean_squared_error'))\n",
    "print(MLP_CV)\n",
    "\n",
    "MLP_CV2 = abs(cross_val_score(MLP, x_train, y_joint_train, cv=10, scoring='neg_mean_squared_error'))\n",
    "print(MLP_CV2)"
   ]
  },
  {
   "cell_type": "markdown",
   "metadata": {
    "id": "AOiJ2euGPDIi"
   },
   "source": [
    "#### Regression using the \"sklearn.ensemble.RandomForestRegressor\""
   ]
  },
  {
   "cell_type": "code",
   "execution_count": null,
   "metadata": {
    "id": "nZm0TaBiPI7f"
   },
   "outputs": [],
   "source": [
    "Forest = RandomForestRegressor()\n",
    "\n",
    "Forest.fit(x_train, y_joint_train)\n",
    "Forest_Outputs = Forest.predict(x_train)\n",
    "\n",
    "Forest_CV = abs(cross_val_score(Forest, x_test, y_joint_test, cv=10, scoring='neg_mean_squared_error'))\n",
    "print(Forest_CV)\n",
    "Forest_CV2 = abs(cross_val_score(Forest, x_train, y_joint_train, cv=10, scoring='neg_mean_squared_error'))\n",
    "print(Forest_CV2)\n"
   ]
  },
  {
   "cell_type": "markdown",
   "metadata": {
    "id": "RBh3t_m8wzfg"
   },
   "source": [
    "#### Regression using the \"sklearn.svm.SVR\""
   ]
  },
  {
   "cell_type": "code",
   "execution_count": null,
   "metadata": {
    "id": "y-G-nLt7wzfp"
   },
   "outputs": [],
   "source": [
    "SVR_poly = SVR()\n",
    "SVR_1 = SVR_poly.fit(x_train, y1_train)\n",
    "SVR_2 = SVR_poly.fit(x_train, y2_train)\n",
    "\n",
    "SVR_Outputs = SVR_poly.predict(x_train)\n",
    "\n",
    "SVR_1_CV = abs(cross_val_score(SVR_poly, x1_test, y1_test, cv=10, scoring='neg_mean_squared_error'))\n",
    "SVR_2_CV = abs(cross_val_score(SVR_poly, x2_test, y2_test, cv=10, scoring='neg_mean_squared_error'))\n",
    "print(SVR_1_CV)\n",
    "print(SVR_2_CV)\n",
    "\n",
    "SVR_1_CV1 = abs(cross_val_score(SVR_poly, x1_train, y1_train, cv=10, scoring='neg_mean_squared_error'))\n",
    "SVR_2_CV2 = abs(cross_val_score(SVR_poly, x2_train, y2_train, cv=10, scoring='neg_mean_squared_error'))\n",
    "print(SVR_1_CV1)\n",
    "print(SVR_2_CV2)"
   ]
  },
  {
   "cell_type": "markdown",
   "metadata": {
    "id": "Tbe8xA_Bg6rU"
   },
   "source": [
    "### Task 1.3 - Assessment of  Regression"
   ]
  },
  {
   "cell_type": "markdown",
   "metadata": {
    "id": "zi-E4EBig_Kh"
   },
   "source": [
    "#### Boxplot"
   ]
  },
  {
   "cell_type": "code",
   "execution_count": null,
   "metadata": {},
   "outputs": [],
   "source": [
    "VALS_Data = [Forest_CV2, MLP_CV2, SVR_1_CV1, SVR_2_CV2]\n",
    "\n",
    "# Creating plot\n",
    "plt.boxplot(VALS_Data)\n",
    "  \n",
    "# Adding title \n",
    "plt.title(\"Cross Validation - Training data\")\n",
    "\n",
    "plt.xticks([1, 2, 3, 4], ['Forest', 'MLP', 'SVR_Y1', 'SVR_Y2'])\n",
    "plt.xlabel('Regressor Model')\n",
    "plt.ylabel('MSE Rate')\n",
    "\n",
    "# show plot\n",
    "plt.show()"
   ]
  },
  {
   "cell_type": "code",
   "execution_count": null,
   "metadata": {},
   "outputs": [],
   "source": [
    "CV_TEST_DATA = [Forest_CV, MLP_CV, SVR_1_CV, SVR_2_CV]\n",
    "\n",
    "# Creating plot\n",
    "plt.boxplot(CV_TEST_DATA)\n",
    "  \n",
    "# Adding title \n",
    "plt.title(\"Cross Validation - Testing data\")\n",
    "\n",
    "plt.xticks([1, 2, 3, 4], ['Forest', 'MLP', 'SVR_Y1', 'SVR_Y2'])\n",
    "plt.xlabel('Regressor Model')\n",
    "plt.ylabel('MSE Rate')\n",
    "\n",
    "# show plot\n",
    "plt.show()"
   ]
  }
 ],
 "metadata": {
  "colab": {
   "name": "Assessment_2_Machine_Learning_and_Optimisation.ipynb",
   "provenance": []
  },
  "kernelspec": {
   "display_name": "Python 3 (ipykernel)",
   "language": "python",
   "name": "python3"
  },
  "language_info": {
   "codemirror_mode": {
    "name": "ipython",
    "version": 3
   },
   "file_extension": ".py",
   "mimetype": "text/x-python",
   "name": "python",
   "nbconvert_exporter": "python",
   "pygments_lexer": "ipython3",
   "version": "3.10.2"
  }
 },
 "nbformat": 4,
 "nbformat_minor": 1
}
