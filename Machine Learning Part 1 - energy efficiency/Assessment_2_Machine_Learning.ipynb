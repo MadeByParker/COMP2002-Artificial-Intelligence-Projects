{
 "cells": [
  {
   "cell_type": "markdown",
   "metadata": {
    "id": "CBdcIQ7nLzNj"
   },
   "source": [
    "# Assessment 2 - Part 1: Machine Learning\n",
    "<br>\n",
    "\n",
    "## Task: train regression models that predict two indicators of energy efficiency based on 8 numerical inputs. \n",
    "<br>\n",
    "\n",
    "### Packages needed:\n",
    "\n",
    "- pandas\n",
    "- sklearn\n",
    "- numpy\n",
    "- matplotlib"
   ]
  },
  {
   "cell_type": "markdown",
   "metadata": {
    "id": "XLc-NOz1L7Y6"
   },
   "source": [
    "### 1.1 - Data Preparation"
   ]
  },
  {
   "cell_type": "markdown",
   "metadata": {
    "id": "DkUjx-nTMdt0"
   },
   "source": [
    "#### Importing libraries"
   ]
  },
  {
   "cell_type": "code",
   "execution_count": 10,
   "metadata": {
    "id": "V7FOfSRQL_gM"
   },
   "outputs": [],
   "source": [
    "## Imports\n",
    "from sklearn.model_selection import train_test_split\n",
    "from sklearn.metrics import accuracy_score\n",
    "import numpy as np\n",
    "import pandas as pd\n",
    "import math\n",
    "import matplotlib.pyplot as plt\n",
    "\n",
    "## Used for normalising the data\n",
    "from sklearn import preprocessing\n",
    "from sklearn.preprocessing import MinMaxScaler\n",
    "\n",
    "## Used for regression\n",
    "from sklearn.neural_network import MLPRegressor\n",
    "from sklearn.ensemble import RandomForestRegressor\n",
    "from sklearn.svm import SVR\n",
    "\n",
    "## Used for assessment of regression\n",
    "from sklearn.metrics import mean_squared_error\n",
    "\n",
    "## Used for cross validation\n",
    "from sklearn.model_selection import KFold\n",
    "from sklearn.model_selection import cross_val_score"
   ]
  },
  {
   "cell_type": "markdown",
   "metadata": {
    "id": "jsbY820IMwiI"
   },
   "source": [
    "#### Loading the dataset"
   ]
  },
  {
   "cell_type": "code",
   "execution_count": 11,
   "metadata": {
    "colab": {
     "base_uri": "https://localhost:8080/",
     "height": 414
    },
    "id": "cCoxW9vZM3ti",
    "outputId": "920b65b1-d76c-4b31-d1a0-4b1c52b14c01"
   },
   "outputs": [
    {
     "data": {
      "text/html": [
       "<div>\n",
       "<style scoped>\n",
       "    .dataframe tbody tr th:only-of-type {\n",
       "        vertical-align: middle;\n",
       "    }\n",
       "\n",
       "    .dataframe tbody tr th {\n",
       "        vertical-align: top;\n",
       "    }\n",
       "\n",
       "    .dataframe thead th {\n",
       "        text-align: right;\n",
       "    }\n",
       "</style>\n",
       "<table border=\"1\" class=\"dataframe\">\n",
       "  <thead>\n",
       "    <tr style=\"text-align: right;\">\n",
       "      <th></th>\n",
       "      <th>X1</th>\n",
       "      <th>X2</th>\n",
       "      <th>X3</th>\n",
       "      <th>X4</th>\n",
       "      <th>X5</th>\n",
       "      <th>X6</th>\n",
       "      <th>X7</th>\n",
       "      <th>X8</th>\n",
       "      <th>Y1</th>\n",
       "      <th>Y2</th>\n",
       "    </tr>\n",
       "  </thead>\n",
       "  <tbody>\n",
       "    <tr>\n",
       "      <th>0</th>\n",
       "      <td>0.98</td>\n",
       "      <td>514.5</td>\n",
       "      <td>294.0</td>\n",
       "      <td>110.25</td>\n",
       "      <td>7.0</td>\n",
       "      <td>2</td>\n",
       "      <td>0.0</td>\n",
       "      <td>0</td>\n",
       "      <td>15.55</td>\n",
       "      <td>21.33</td>\n",
       "    </tr>\n",
       "    <tr>\n",
       "      <th>1</th>\n",
       "      <td>0.98</td>\n",
       "      <td>514.5</td>\n",
       "      <td>294.0</td>\n",
       "      <td>110.25</td>\n",
       "      <td>7.0</td>\n",
       "      <td>3</td>\n",
       "      <td>0.0</td>\n",
       "      <td>0</td>\n",
       "      <td>15.55</td>\n",
       "      <td>21.33</td>\n",
       "    </tr>\n",
       "    <tr>\n",
       "      <th>2</th>\n",
       "      <td>0.98</td>\n",
       "      <td>514.5</td>\n",
       "      <td>294.0</td>\n",
       "      <td>110.25</td>\n",
       "      <td>7.0</td>\n",
       "      <td>4</td>\n",
       "      <td>0.0</td>\n",
       "      <td>0</td>\n",
       "      <td>15.55</td>\n",
       "      <td>21.33</td>\n",
       "    </tr>\n",
       "    <tr>\n",
       "      <th>3</th>\n",
       "      <td>0.98</td>\n",
       "      <td>514.5</td>\n",
       "      <td>294.0</td>\n",
       "      <td>110.25</td>\n",
       "      <td>7.0</td>\n",
       "      <td>5</td>\n",
       "      <td>0.0</td>\n",
       "      <td>0</td>\n",
       "      <td>15.55</td>\n",
       "      <td>21.33</td>\n",
       "    </tr>\n",
       "    <tr>\n",
       "      <th>4</th>\n",
       "      <td>0.90</td>\n",
       "      <td>563.5</td>\n",
       "      <td>318.5</td>\n",
       "      <td>122.50</td>\n",
       "      <td>7.0</td>\n",
       "      <td>2</td>\n",
       "      <td>0.0</td>\n",
       "      <td>0</td>\n",
       "      <td>20.84</td>\n",
       "      <td>28.28</td>\n",
       "    </tr>\n",
       "  </tbody>\n",
       "</table>\n",
       "</div>"
      ],
      "text/plain": [
       "     X1     X2     X3      X4   X5  X6   X7  X8     Y1     Y2\n",
       "0  0.98  514.5  294.0  110.25  7.0   2  0.0   0  15.55  21.33\n",
       "1  0.98  514.5  294.0  110.25  7.0   3  0.0   0  15.55  21.33\n",
       "2  0.98  514.5  294.0  110.25  7.0   4  0.0   0  15.55  21.33\n",
       "3  0.98  514.5  294.0  110.25  7.0   5  0.0   0  15.55  21.33\n",
       "4  0.90  563.5  318.5  122.50  7.0   2  0.0   0  20.84  28.28"
      ]
     },
     "execution_count": 11,
     "metadata": {},
     "output_type": "execute_result"
    }
   ],
   "source": [
    "energy_data = pd.read_excel(\"data.xlsx\")\n",
    "\n",
    "energy_data.head()"
   ]
  },
  {
   "cell_type": "markdown",
   "metadata": {},
   "source": [
    "#### Extracting and splitting data"
   ]
  },
  {
   "cell_type": "code",
   "execution_count": 12,
   "metadata": {},
   "outputs": [],
   "source": [
    "## Extracting Data\n",
    "\n",
    "#inputs\n",
    "inputs = energy_data.values[:,:8].astype(float)\n",
    "\n",
    "#normalise the inputs\n",
    "scaler = MinMaxScaler()\n",
    "scaled_inputs = scaler.fit_transform(inputs)\n",
    "\n",
    "#targets\n",
    "targets_Y1 = energy_data[\"Y1\"]\n",
    "targets_Y2 = energy_data[\"Y2\"]\n",
    "targets =  energy_data.values[:,8:].astype(float)\n",
    "\n"
   ]
  },
  {
   "cell_type": "markdown",
   "metadata": {},
   "source": [
    "#### Random Sample generator"
   ]
  },
  {
   "cell_type": "code",
   "execution_count": 13,
   "metadata": {},
   "outputs": [
    {
     "name": "stdout",
     "output_type": "stream",
     "text": [
      "     X1     X2     X3      X4   X5  X6    X7  X8     Y1     Y2\n",
      "0  0.62  808.5  367.5  220.50  3.5   4  0.40   2  17.26  16.86\n",
      "1  0.62  808.5  367.5  220.50  3.5   2  0.40   5  16.54  16.88\n",
      "2  0.98  514.5  294.0  110.25  7.0   3  0.40   3  32.69  33.24\n",
      "3  0.90  563.5  318.5  122.50  7.0   4  0.25   5  31.53  37.19\n",
      "4  0.79  637.0  343.0  147.00  7.0   2  0.10   3  35.78  43.12\n"
     ]
    }
   ],
   "source": [
    "sample = energy_data.sample(frac=1).reset_index(drop=True)\n",
    "\n",
    "print( sample.head())"
   ]
  },
  {
   "cell_type": "markdown",
   "metadata": {},
   "source": [
    "#### Setting up train and test data"
   ]
  },
  {
   "cell_type": "code",
   "execution_count": 14,
   "metadata": {},
   "outputs": [],
   "source": [
    "#set up data\n",
    "x_train, x_test, y_joint_train, y_joint_test = train_test_split(scaled_inputs, targets, test_size=0.3)\n",
    "x1_train, x1_test, y1_train, y1_test = train_test_split(scaled_inputs, targets_Y1, test_size=0.3)\n",
    "x2_train, x2_test, y2_train, y2_test = train_test_split(scaled_inputs,targets_Y2, test_size=0.3)"
   ]
  },
  {
   "cell_type": "markdown",
   "metadata": {
    "id": "_UbBOF8YOjX4"
   },
   "source": [
    "### Task 1.2 - Regression"
   ]
  },
  {
   "cell_type": "markdown",
   "metadata": {
    "id": "qLxHfij9O5vX"
   },
   "source": [
    "#### Regression using the \"sklearn.neural_network.MLPRegressor\""
   ]
  },
  {
   "cell_type": "code",
   "execution_count": 15,
   "metadata": {
    "id": "6agXlDk9Oosv"
   },
   "outputs": [
    {
     "name": "stdout",
     "output_type": "stream",
     "text": [
      "[5.41760922 1.87291017 2.0171564  5.84317433 4.10376035]\n",
      "[ 7.78171704  7.87102559  4.70239629  6.75375307 10.12529735]\n"
     ]
    }
   ],
   "source": [
    "MLP = MLPRegressor(max_iter=20000)\n",
    "MLP.fit(x_train, y_joint_train)\n",
    "MLP_Outputs = MLP.predict(x_train)\n",
    "\n",
    "MLP_CV = abs(cross_val_score(MLP, x_test, y_joint_test, cv=5, scoring='neg_mean_squared_error'))\n",
    "print(MLP_CV)\n",
    "\n",
    "MLP_CV2 = abs(cross_val_score(MLP, x_train, y_joint_train, cv=5, scoring='neg_mean_squared_error'))\n",
    "print(MLP_CV2)"
   ]
  },
  {
   "cell_type": "markdown",
   "metadata": {
    "id": "AOiJ2euGPDIi"
   },
   "source": [
    "#### Regression using the \"sklearn.ensemble.RandomForestRegressor\""
   ]
  },
  {
   "cell_type": "code",
   "execution_count": 16,
   "metadata": {
    "id": "nZm0TaBiPI7f"
   },
   "outputs": [
    {
     "name": "stdout",
     "output_type": "stream",
     "text": [
      "[2.45460948 1.98784559 2.53434515 1.73196923 2.35682454 2.8178745\n",
      " 2.87726046 1.87596549 2.14514285 2.79577721]\n",
      "[1.91834401 1.60614191 1.48406756 2.02263189 1.71410363 2.05424695\n",
      " 1.99221936 3.13799218 1.62441562 2.35850279]\n"
     ]
    }
   ],
   "source": [
    "Forest = RandomForestRegressor()\n",
    "\n",
    "Forest.fit(x_train, y_joint_train)\n",
    "Forest_Outputs = Forest.predict(x_train)\n",
    "\n",
    "Forest_CV = abs(cross_val_score(Forest, x_test, y_joint_test, cv=10, scoring='neg_mean_squared_error'))\n",
    "print(Forest_CV)\n",
    "Forest_CV2 = abs(cross_val_score(Forest, x_train, y_joint_train, cv=10, scoring='neg_mean_squared_error'))\n",
    "print(Forest_CV2)\n"
   ]
  },
  {
   "cell_type": "markdown",
   "metadata": {
    "id": "RBh3t_m8wzfg"
   },
   "source": [
    "#### Regression using the \"sklearn.svm.SVR\""
   ]
  },
  {
   "cell_type": "code",
   "execution_count": 17,
   "metadata": {
    "id": "y-G-nLt7wzfp"
   },
   "outputs": [
    {
     "name": "stdout",
     "output_type": "stream",
     "text": [
      "[14.019766   10.3453682  11.89578255 10.80198316 10.83013988  7.30394643\n",
      " 18.80963304 16.2486121   8.54575369  6.9259645 ]\n",
      "[ 8.13011744 18.12308403 31.0589618  24.69367021 18.3058182   9.46852448\n",
      "  7.2277232  13.12638973  5.02803479 20.98741523]\n",
      "[ 7.7585983   5.39947642  8.41510334  9.58324971  8.02767305 11.27496411\n",
      "  6.78306092 13.80547356  6.26957487  6.50668552]\n",
      "[ 6.90193904 12.54041495  7.95899678 13.94150376  5.80950184 15.14146649\n",
      " 15.03427225 13.95989265  5.40475407  7.44530976]\n"
     ]
    }
   ],
   "source": [
    "SVR_poly = SVR()\n",
    "SVR_1 = SVR_poly.fit(x_train, y1_train)\n",
    "SVR_2 = SVR_poly.fit(x_train, y2_train)\n",
    "\n",
    "SVR_Outputs = SVR_poly.predict(x_train)\n",
    "\n",
    "SVR_1_CV = abs(cross_val_score(SVR_poly, x1_test, y1_test, cv=10, scoring='neg_mean_squared_error'))\n",
    "SVR_2_CV = abs(cross_val_score(SVR_poly, x2_test, y2_test, cv=10, scoring='neg_mean_squared_error'))\n",
    "print(SVR_1_CV)\n",
    "print(SVR_2_CV)\n",
    "\n",
    "SVR_1_CV1 = abs(cross_val_score(SVR_poly, x1_train, y1_train, cv=10, scoring='neg_mean_squared_error'))\n",
    "SVR_2_CV2 = abs(cross_val_score(SVR_poly, x2_train, y2_train, cv=10, scoring='neg_mean_squared_error'))\n",
    "print(SVR_1_CV1)\n",
    "print(SVR_2_CV2)"
   ]
  },
  {
   "cell_type": "markdown",
   "metadata": {
    "id": "Tbe8xA_Bg6rU"
   },
   "source": [
    "### Task 1.3 - Assessment of  Regression"
   ]
  },
  {
   "cell_type": "markdown",
   "metadata": {
    "id": "zi-E4EBig_Kh"
   },
   "source": [
    "#### Boxplot"
   ]
  },
  {
   "cell_type": "code",
   "execution_count": 18,
   "metadata": {},
   "outputs": [
    {
     "data": {
      "image/png": "[encoded data removed]",
      "text/plain": [
       "<Figure size 432x288 with 1 Axes>"
      ]
     },
     "metadata": {
      "needs_background": "light"
     },
     "output_type": "display_data"
    }
   ],
   "source": [
    "VALS_Data = [Forest_CV2, MLP_CV2, SVR_1_CV1, SVR_2_CV2]\n",
    "\n",
    "# Creating plot\n",
    "plt.boxplot(VALS_Data)\n",
    "  \n",
    "# Adding title \n",
    "plt.title(\"Cross Validation\")\n",
    "\n",
    "plt.xticks([1, 2, 3, 4], ['Forest', 'MLP', 'SVR_Y1', 'SVR_Y2'])\n",
    "plt.xlabel('Regressor Model')\n",
    "plt.ylabel('MSE Rate')\n",
    "\n",
    "# show plot\n",
    "plt.show()"
   ]
  },
  {
   "cell_type": "code",
   "execution_count": null,
   "metadata": {},
   "outputs": [],
   "source": []
  }
 ],
 "metadata": {
  "colab": {
   "name": "Assessment_2_Machine_Learning_and_Optimisation.ipynb",
   "provenance": []
  },
  "kernelspec": {
   "display_name": "Python 3 (ipykernel)",
   "language": "python",
   "name": "python3"
  },
  "language_info": {
   "codemirror_mode": {
    "name": "ipython",
    "version": 3
   },
   "file_extension": ".py",
   "mimetype": "text/x-python",
   "name": "python",
   "nbconvert_exporter": "python",
   "pygments_lexer": "ipython3",
   "version": "3.9.5"
  }
 },
 "nbformat": 4,
 "nbformat_minor": 1
}
