{
 "cells": [
  {
   "cell_type": "markdown",
   "metadata": {
    "id": "CBdcIQ7nLzNj"
   },
   "source": [
    "# Assessment 2: Machine Learning and Optimisation"
   ]
  },
  {
   "cell_type": "markdown",
   "metadata": {
    "id": "mMondJpmL3jg"
   },
   "source": [
    "## Part 1 - Machine Learning"
   ]
  },
  {
   "cell_type": "markdown",
   "metadata": {
    "id": "XLc-NOz1L7Y6"
   },
   "source": [
    "### Task 1.1 - Data Preparation"
   ]
  },
  {
   "cell_type": "markdown",
   "metadata": {
    "id": "DkUjx-nTMdt0"
   },
   "source": [
    "#### Importing libraries"
   ]
  },
  {
   "cell_type": "code",
   "execution_count": 1,
   "metadata": {
    "id": "V7FOfSRQL_gM"
   },
   "outputs": [],
   "source": [
    "## Imports\n",
    "\n",
    "from sklearn.neighbors import KNeighborsClassifier\n",
    "from sklearn.model_selection import train_test_split\n",
    "from sklearn import datasets\n",
    "from sklearn.metrics import accuracy_score\n",
    "from sklearn.decomposition import PCA\n",
    "import numpy as np\n",
    "import pandas as pd\n",
    "\n",
    "## Used for normalising the data\n",
    "from sklearn.preprocessing import MinMaxScaler\n",
    "\n",
    "## Used for regression\n",
    "from sklearn.neural_network import MLPClassifier\n",
    "from sklearn.neural_network import MLPRegressor\n",
    "from sklearn.ensemble import RandomForestRegressor\n",
    "from sklearn.ensemble import RandomForestClassifier\n",
    "from sklearn.svm import SVR\n",
    "\n",
    "## Used for assessment of regression\n",
    "from sklearn.metrics import mean_squared_error\n",
    "\n",
    "## Used for cross validation\n",
    "import pandas \n",
    "from sklearn.model_selection import train_test_split\n",
    "from sklearn.model_selection import KFold\n",
    "from sklearn.model_selection import cross_val_score as CV\n",
    "import matplotlib.pyplot as plt"
   ]
  },
  {
   "cell_type": "markdown",
   "metadata": {
    "id": "jsbY820IMwiI"
   },
   "source": [
    "#### Loading and preparing the dataset"
   ]
  },
  {
   "cell_type": "code",
   "execution_count": 3,
   "metadata": {
    "colab": {
     "base_uri": "https://localhost:8080/",
     "height": 414
    },
    "id": "cCoxW9vZM3ti",
    "outputId": "920b65b1-d76c-4b31-d1a0-4b1c52b14c01"
   },
   "outputs": [
    {
     "name": "stdout",
     "output_type": "stream",
     "text": [
      "        X1     X2     X3      X4   X5   X6   X7   X8     Y1     Y2  \\\n",
      "0     0.98  514.5  294.0  110.25  7.0  2.0  0.0  0.0  15.55  21.33   \n",
      "1     0.98  514.5  294.0  110.25  7.0  3.0  0.0  0.0  15.55  21.33   \n",
      "2     0.98  514.5  294.0  110.25  7.0  4.0  0.0  0.0  15.55  21.33   \n",
      "3     0.98  514.5  294.0  110.25  7.0  5.0  0.0  0.0  15.55  21.33   \n",
      "4     0.90  563.5  318.5  122.50  7.0  2.0  0.0  0.0  20.84  28.28   \n",
      "...    ...    ...    ...     ...  ...  ...  ...  ...    ...    ...   \n",
      "1291   NaN    NaN    NaN     NaN  NaN  NaN  NaN  NaN    NaN    NaN   \n",
      "1292   NaN    NaN    NaN     NaN  NaN  NaN  NaN  NaN    NaN    NaN   \n",
      "1293   NaN    NaN    NaN     NaN  NaN  NaN  NaN  NaN    NaN    NaN   \n",
      "1294   NaN    NaN    NaN     NaN  NaN  NaN  NaN  NaN    NaN    NaN   \n",
      "1295   NaN    NaN    NaN     NaN  NaN  NaN  NaN  NaN    NaN    NaN   \n",
      "\n",
      "      Unnamed: 10  Unnamed: 11  \n",
      "0             NaN          NaN  \n",
      "1             NaN          NaN  \n",
      "2             NaN          NaN  \n",
      "3             NaN          NaN  \n",
      "4             NaN          NaN  \n",
      "...           ...          ...  \n",
      "1291          NaN          NaN  \n",
      "1292          NaN          NaN  \n",
      "1293          NaN          NaN  \n",
      "1294          NaN          NaN  \n",
      "1295          NaN          NaN  \n",
      "\n",
      "[1296 rows x 12 columns]\n",
      "Contents in csv file:\n",
      "          Y1     Y2\n",
      "0     15.55  21.33\n",
      "1     15.55  21.33\n",
      "2     15.55  21.33\n",
      "3     15.55  21.33\n",
      "4     20.84  28.28\n",
      "...     ...    ...\n",
      "1291    NaN    NaN\n",
      "1292    NaN    NaN\n",
      "1293    NaN    NaN\n",
      "1294    NaN    NaN\n",
      "1295    NaN    NaN\n",
      "\n",
      "[1296 rows x 2 columns]\n"
     ]
    },
    {
     "data": {
      "image/png": "[encoded data removed]",
      "text/plain": [
       "<Figure size 504x252 with 1 Axes>"
      ]
     },
     "metadata": {
      "needs_background": "light"
     },
     "output_type": "display_data"
    },
    {
     "ename": "NameError",
     "evalue": "name 'dataframe' is not defined",
     "output_type": "error",
     "traceback": [
      "\u001b[1;31m---------------------------------------------------------------------------\u001b[0m",
      "\u001b[1;31mNameError\u001b[0m                                 Traceback (most recent call last)",
      "Input \u001b[1;32mIn [3]\u001b[0m, in \u001b[0;36m<module>\u001b[1;34m\u001b[0m\n\u001b[0;32m     15\u001b[0m scaled \u001b[38;5;241m=\u001b[39m scaler\u001b[38;5;241m.\u001b[39mfit_transform(df)\n\u001b[0;32m     17\u001b[0m \u001b[38;5;66;03m# Print the range of the variables to show the normalisation effect.\u001b[39;00m\n\u001b[1;32m---> 18\u001b[0m \u001b[38;5;28mprint\u001b[39m(\u001b[43mdataframe\u001b[49m\u001b[38;5;241m.\u001b[39mptp(axis\u001b[38;5;241m=\u001b[39m\u001b[38;5;241m0\u001b[39m))\n\u001b[0;32m     19\u001b[0m \u001b[38;5;28mprint\u001b[39m(scaled\u001b[38;5;241m.\u001b[39mptp(axis\u001b[38;5;241m=\u001b[39m\u001b[38;5;241m0\u001b[39m))\n",
      "\u001b[1;31mNameError\u001b[0m: name 'dataframe' is not defined"
     ]
    }
   ],
   "source": [
    "data = pandas.read_csv(\"ENB2012_data.csv\")\n",
    "print(data)\n",
    "\n",
    "plt.rcParams[\"figure.figsize\"] = [7.00, 3.50]\n",
    "plt.rcParams[\"figure.autolayout\"] = True\n",
    "columns = [\"Y1\", \"Y2\"]\n",
    "df = pd.read_csv(\"ENB2012_data.csv\", usecols=columns)\n",
    "print(\"Contents in csv file:\\n\", df)\n",
    "plt.scatter(df.Y1, df.Y2)\n",
    "plt.show()\n",
    "\n",
    "\n",
    "# Scale the data.\n",
    "scaler = MinMaxScaler()\n",
    "scaled = scaler.fit_transform(df)\n",
    "\n",
    "# Print the range of the variables to show the normalisation effect.\n",
    "print(dataframe.ptp(axis=0))\n",
    "print(scaled.ptp(axis=0))"
   ]
  },
  {
   "cell_type": "markdown",
   "metadata": {
    "id": "_UbBOF8YOjX4"
   },
   "source": [
    "### Task 1.2 - Regression"
   ]
  },
  {
   "cell_type": "markdown",
   "metadata": {
    "id": "qLxHfij9O5vX"
   },
   "source": [
    "#### Regression using the \"sklearn.neural_network.MLPRegressor\""
   ]
  },
  {
   "cell_type": "code",
   "execution_count": null,
   "metadata": {
    "id": "6agXlDk9Oosv"
   },
   "outputs": [],
   "source": [
    "neural_Regressor = MLPRegressor(hidden_layer_sizes=(20,), max_iter=1000, warm_start=True, random_state = 1, verbose=True)\n",
    "neural_Regressor.fit(scaled, targets.reshape(-1,))\n",
    "neural_Outputs = neural_Regressor.predict(scaled)"
   ]
  },
  {
   "cell_type": "markdown",
   "metadata": {
    "id": "AOiJ2euGPDIi"
   },
   "source": [
    "#### Regression using the \"sklearn.ensemble.RandomForestRegressor\""
   ]
  },
  {
   "cell_type": "code",
   "execution_count": null,
   "metadata": {
    "id": "nZm0TaBiPI7f"
   },
   "outputs": [],
   "source": [
    "randomForest_Regressor = RandomForestRegressor(max_depth=2, warm_start=True, random_state = 1, verbose=True)\n",
    "randomForest_Regressor.fit(scaled, targets.ravel())\n",
    "rf_Outputs = randomForest_Regressor.predict(scaled)"
   ]
  },
  {
   "cell_type": "markdown",
   "metadata": {
    "id": "RBh3t_m8wzfg"
   },
   "source": [
    "#### Regression using the \"sklearn.svm.SVR\""
   ]
  },
  {
   "cell_type": "code",
   "execution_count": null,
   "metadata": {
    "id": "y-G-nLt7wzfp"
   },
   "outputs": [],
   "source": [
    "SVR_Regressor = SVR(kernel='rbf')\n",
    "SVR_Regressor.fit(scaled, targets.ravel())\n",
    "SVR_Outputs = SVR_Regressor.predict(scaled)"
   ]
  },
  {
   "cell_type": "markdown",
   "metadata": {
    "id": "Tbe8xA_Bg6rU"
   },
   "source": [
    "### Task 1.3 - Assessment of  Regression"
   ]
  },
  {
   "cell_type": "markdown",
   "metadata": {
    "id": "zi-E4EBig_Kh"
   },
   "source": [
    "#### MSE of all 3 regression methods then plot it on a box plot"
   ]
  },
  {
   "cell_type": "code",
   "execution_count": null,
   "metadata": {
    "id": "sJI9SME-hE0Z"
   },
   "outputs": [],
   "source": [
    "cv = KFold(n_splits=5, random_state=1, shuffle=True)\n",
    "\n",
    "targets.reshape(-1, 1)\n",
    "neural_Outputs.reshape(-1, 1)\n",
    "rf_Outputs.reshape(-1, 1)\n",
    "SVR_Outputs.reshape(-1, 1)\n",
    "MSE_1 = cross_val_score(neural_Regressor, targets, scaled, cv=5)\n",
    "print(MSE_1)\n",
    "\n",
    "MSE_2 = cross_val_score(randomForest_Regressor, targets, scaled, cv=5)\n",
    "print(MSE_2)\n",
    "\n",
    "MSE_3 = cross_val_score(SVR_Regressor, targets, scaled, cv=5)\n",
    "print(MSE_3)\n",
    "\n",
    "plot_data = list()\n",
    "plot_data.append(MSE_1)\n",
    "plot_data.append(MSE_2)\n",
    "plot_data.append(MSE_3)\n",
    "\n",
    "\n",
    "# Creating plot\n",
    "plt.boxplot(plot_data)\n",
    " \n",
    "# show plot\n",
    "plt.show()\n"
   ]
  },
  {
   "cell_type": "code",
   "execution_count": null,
   "metadata": {
    "id": "0v-FZ-VgRDCa"
   },
   "outputs": [],
   "source": []
  }
 ],
 "metadata": {
  "colab": {
   "name": "Assessment_2_Machine_Learning_and_Optimisation.ipynb",
   "provenance": []
  },
  "kernelspec": {
   "display_name": "Python 3 (ipykernel)",
   "language": "python",
   "name": "python3"
  },
  "language_info": {
   "codemirror_mode": {
    "name": "ipython",
    "version": 3
   },
   "file_extension": ".py",
   "mimetype": "text/x-python",
   "name": "python",
   "nbconvert_exporter": "python",
   "pygments_lexer": "ipython3",
   "version": "3.10.2"
  }
 },
 "nbformat": 4,
 "nbformat_minor": 1
}
