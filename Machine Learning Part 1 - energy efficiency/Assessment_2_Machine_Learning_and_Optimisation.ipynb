{
 "cells": [
  {
   "cell_type": "markdown",
   "metadata": {
    "id": "CBdcIQ7nLzNj"
   },
   "source": [
    "# Assessment 2: Machine Learning and Optimisation"
   ]
  },
  {
   "cell_type": "markdown",
   "metadata": {
    "id": "mMondJpmL3jg"
   },
   "source": [
    "## Part 1 - Machine Learning"
   ]
  },
  {
   "cell_type": "markdown",
   "metadata": {
    "id": "XLc-NOz1L7Y6"
   },
   "source": [
    "### Task 1.1 - Data Preparation"
   ]
  },
  {
   "cell_type": "markdown",
   "metadata": {
    "id": "DkUjx-nTMdt0"
   },
   "source": [
    "#### Importing libraries"
   ]
  },
  {
   "cell_type": "code",
   "execution_count": 18,
   "metadata": {
    "id": "V7FOfSRQL_gM"
   },
   "outputs": [],
   "source": [
    "## Imports\n",
    "\n",
    "from sklearn.neighbors import KNeighborsClassifier\n",
    "from sklearn.model_selection import train_test_split\n",
    "from sklearn import datasets\n",
    "from sklearn.metrics import accuracy_score\n",
    "from sklearn.decomposition import PCA\n",
    "import numpy as np\n",
    "import pandas as pd\n",
    "\n",
    "## Used for normalising the data\n",
    "from sklearn.preprocessing import MinMaxScaler\n",
    "\n",
    "## Used for regression\n",
    "from sklearn.neural_network import MLPClassifier\n",
    "from sklearn.neural_network import MLPRegressor\n",
    "from sklearn.ensemble import RandomForestRegressor\n",
    "from sklearn.ensemble import RandomForestClassifier\n",
    "from sklearn.svm import SVR\n",
    "\n",
    "## Used for assessment of regression\n",
    "from sklearn.metrics import mean_squared_error\n",
    "\n",
    "## Used for cross validation\n",
    "import pandas \n",
    "from sklearn.model_selection import train_test_split\n",
    "from sklearn.model_selection import KFold\n",
    "from sklearn.model_selection import cross_val_score as CV\n",
    "import matplotlib.pyplot as plt"
   ]
  },
  {
   "cell_type": "markdown",
   "metadata": {
    "id": "jsbY820IMwiI"
   },
   "source": [
    "#### Loading and preparing the dataset"
   ]
  },
  {
   "cell_type": "code",
   "execution_count": 21,
   "metadata": {
    "colab": {
     "base_uri": "https://localhost:8080/"
    },
    "id": "cCoxW9vZM3ti",
    "outputId": "acd57b5b-d4ad-43b0-b285-4e086803181e"
   },
   "outputs": [
    {
     "ename": "ValueError",
     "evalue": "'21.33' is not in list",
     "output_type": "error",
     "traceback": [
      "\u001b[1;31m---------------------------------------------------------------------------\u001b[0m",
      "\u001b[1;31mValueError\u001b[0m                                Traceback (most recent call last)",
      "Input \u001b[1;32mIn [21]\u001b[0m, in \u001b[0;36m<module>\u001b[1;34m\u001b[0m\n\u001b[0;32m      3\u001b[0m dataframe \u001b[38;5;241m=\u001b[39m  data\u001b[38;5;241m.\u001b[39mvalues[:,:\u001b[38;5;241m-\u001b[39m\u001b[38;5;241m1\u001b[39m]\u001b[38;5;241m.\u001b[39mastype(\u001b[38;5;28mfloat\u001b[39m)\n\u001b[0;32m      4\u001b[0m classes \u001b[38;5;241m=\u001b[39m [\u001b[38;5;124m\"\u001b[39m\u001b[38;5;124mY1\u001b[39m\u001b[38;5;124m\"\u001b[39m, \u001b[38;5;124m\"\u001b[39m\u001b[38;5;124mY2\u001b[39m\u001b[38;5;124m\"\u001b[39m]\n\u001b[1;32m----> 5\u001b[0m targets \u001b[38;5;241m=\u001b[39m [classes\u001b[38;5;241m.\u001b[39mindex(cls_str) \u001b[38;5;28;01mfor\u001b[39;00m cls_str \u001b[38;5;129;01min\u001b[39;00m data\u001b[38;5;241m.\u001b[39mvalues[:,\u001b[38;5;241m-\u001b[39m\u001b[38;5;241m1\u001b[39m]\u001b[38;5;241m.\u001b[39mastype(\u001b[38;5;28mstr\u001b[39m)]\n\u001b[0;32m      6\u001b[0m targets \u001b[38;5;241m=\u001b[39m np\u001b[38;5;241m.\u001b[39marray(targets)\n\u001b[0;32m      9\u001b[0m \u001b[38;5;66;03m# Scale the data.\u001b[39;00m\n",
      "Input \u001b[1;32mIn [21]\u001b[0m, in \u001b[0;36m<listcomp>\u001b[1;34m(.0)\u001b[0m\n\u001b[0;32m      3\u001b[0m dataframe \u001b[38;5;241m=\u001b[39m  data\u001b[38;5;241m.\u001b[39mvalues[:,:\u001b[38;5;241m-\u001b[39m\u001b[38;5;241m1\u001b[39m]\u001b[38;5;241m.\u001b[39mastype(\u001b[38;5;28mfloat\u001b[39m)\n\u001b[0;32m      4\u001b[0m classes \u001b[38;5;241m=\u001b[39m [\u001b[38;5;124m\"\u001b[39m\u001b[38;5;124mY1\u001b[39m\u001b[38;5;124m\"\u001b[39m, \u001b[38;5;124m\"\u001b[39m\u001b[38;5;124mY2\u001b[39m\u001b[38;5;124m\"\u001b[39m]\n\u001b[1;32m----> 5\u001b[0m targets \u001b[38;5;241m=\u001b[39m [\u001b[43mclasses\u001b[49m\u001b[38;5;241;43m.\u001b[39;49m\u001b[43mindex\u001b[49m\u001b[43m(\u001b[49m\u001b[43mcls_str\u001b[49m\u001b[43m)\u001b[49m \u001b[38;5;28;01mfor\u001b[39;00m cls_str \u001b[38;5;129;01min\u001b[39;00m data\u001b[38;5;241m.\u001b[39mvalues[:,\u001b[38;5;241m-\u001b[39m\u001b[38;5;241m1\u001b[39m]\u001b[38;5;241m.\u001b[39mastype(\u001b[38;5;28mstr\u001b[39m)]\n\u001b[0;32m      6\u001b[0m targets \u001b[38;5;241m=\u001b[39m np\u001b[38;5;241m.\u001b[39marray(targets)\n\u001b[0;32m      9\u001b[0m \u001b[38;5;66;03m# Scale the data.\u001b[39;00m\n",
      "\u001b[1;31mValueError\u001b[0m: '21.33' is not in list"
     ]
    }
   ],
   "source": [
    "## Loading dataset\n",
    "data =  pandas.read_excel(\"ENB2012_data.xlsx\")\n",
    "dataframe =  data.values[:,:-1].astype(float)\n",
    "classes = [\"Y1\", \"Y2\"]\n",
    "targets = [classes.index(cls_str) for cls_str in data.values[:,-1].astype(str)]\n",
    "targets = np.array(targets)\n",
    "\n",
    "\n",
    "# Scale the data.\n",
    "scaler = MinMaxScaler()\n",
    "scaled = scaler.fit_transform(dataframe)\n",
    "\n",
    "# Print the range of the variables to show the normalisation effect.\n",
    "print(dataframe.ptp(axis=0))\n",
    "print(scaled.ptp(axis=0))"
   ]
  },
  {
   "cell_type": "markdown",
   "metadata": {
    "id": "_UbBOF8YOjX4"
   },
   "source": [
    "### Task 1.2 - Regression"
   ]
  },
  {
   "cell_type": "markdown",
   "metadata": {
    "id": "qLxHfij9O5vX"
   },
   "source": [
    "#### Regression using the \"sklearn.neural_network.MLPRegressor\""
   ]
  },
  {
   "cell_type": "code",
   "execution_count": null,
   "metadata": {
    "colab": {
     "base_uri": "https://localhost:8080/"
    },
    "id": "6agXlDk9Oosv",
    "outputId": "e5d33d7c-6e93-498e-a183-d757bd983b83"
   },
   "outputs": [],
   "source": [
    "neural_Regressor = MLPRegressor(hidden_layer_sizes=(20,), max_iter=1000, warm_start=True, random_state = 1, verbose=True)\n",
    "neural_Regressor.fit(scaled, targets.reshape(-1,))\n",
    "neural_Outputs = neural_Regressor.predict(scaled)"
   ]
  },
  {
   "cell_type": "markdown",
   "metadata": {
    "id": "AOiJ2euGPDIi"
   },
   "source": [
    "#### Regression using the \"sklearn.ensemble.RandomForestRegressor\""
   ]
  },
  {
   "cell_type": "code",
   "execution_count": null,
   "metadata": {
    "colab": {
     "base_uri": "https://localhost:8080/"
    },
    "id": "nZm0TaBiPI7f",
    "outputId": "32193862-19c2-4327-9be7-5fcf83fb59bb"
   },
   "outputs": [],
   "source": [
    "randomForest_Regressor = RandomForestRegressor(max_depth=2, warm_start=True, random_state = 1, verbose=True)\n",
    "randomForest_Regressor.fit(scaled, targets.ravel())\n",
    "rf_Outputs = randomForest_Regressor.predict(scaled)"
   ]
  },
  {
   "cell_type": "markdown",
   "metadata": {
    "id": "RBh3t_m8wzfg"
   },
   "source": [
    "#### Regression using the \"sklearn.svm.SVR\""
   ]
  },
  {
   "cell_type": "code",
   "execution_count": null,
   "metadata": {
    "id": "y-G-nLt7wzfp"
   },
   "outputs": [],
   "source": [
    "SVR_Regressor = SVR(kernel='rbf')\n",
    "SVR_Regressor.fit(scaled, targets.ravel())\n",
    "SVR_Outputs = SVR_Regressor.predict(scaled)"
   ]
  },
  {
   "cell_type": "markdown",
   "metadata": {
    "id": "Tbe8xA_Bg6rU"
   },
   "source": [
    "### Task 1.3 - Assessment of  Regression"
   ]
  },
  {
   "cell_type": "markdown",
   "metadata": {
    "id": "zi-E4EBig_Kh"
   },
   "source": [
    "#### MSE of all 3 regression methods then plot it on a box plot"
   ]
  },
  {
   "cell_type": "code",
   "execution_count": null,
   "metadata": {
    "colab": {
     "base_uri": "https://localhost:8080/",
     "height": 235
    },
    "id": "sJI9SME-hE0Z",
    "outputId": "97509e22-16ae-4ff3-f396-f034df3283b4"
   },
   "outputs": [],
   "source": [
    "cv = KFold(n_splits=5, random_state=1, shuffle=True)\n",
    "\n",
    "targets.reshape(-1, 1)\n",
    "neural_Outputs.reshape(-1, 1)\n",
    "rf_Outputs.reshape(-1, 1)\n",
    "SVR_Outputs.reshape(-1, 1)\n",
    "MSE_1 = cross_val_score(neural_Regressor, targets, scaled, cv=5)\n",
    "print(MSE_1)\n",
    "\n",
    "MSE_2 = cross_val_score(randomForest_Regressor, targets, scaled, cv=5)\n",
    "print(MSE_2)\n",
    "\n",
    "MSE_3 = cross_val_score(SVR_Regressor, targets, scaled, cv=5)\n",
    "print(MSE_3)\n",
    "\n",
    "plot_data = list()\n",
    "plot_data.append(MSE_1)\n",
    "plot_data.append(MSE_2)\n",
    "plot_data.append(MSE_3)\n",
    "\n",
    "\n",
    "# Creating plot\n",
    "plt.boxplot(plot_data)\n",
    " \n",
    "# show plot\n",
    "plt.show()\n"
   ]
  },
  {
   "cell_type": "code",
   "execution_count": null,
   "metadata": {},
   "outputs": [],
   "source": []
  }
 ],
 "metadata": {
  "colab": {
   "name": "Assessment 2: Machine Learning and Optimisation",
   "provenance": []
  },
  "kernelspec": {
   "display_name": "Python 3 (ipykernel)",
   "language": "python",
   "name": "python3"
  },
  "language_info": {
   "codemirror_mode": {
    "name": "ipython",
    "version": 3
   },
   "file_extension": ".py",
   "mimetype": "text/x-python",
   "name": "python",
   "nbconvert_exporter": "python",
   "pygments_lexer": "ipython3",
   "version": "3.9.5"
  }
 },
 "nbformat": 4,
 "nbformat_minor": 1
}
