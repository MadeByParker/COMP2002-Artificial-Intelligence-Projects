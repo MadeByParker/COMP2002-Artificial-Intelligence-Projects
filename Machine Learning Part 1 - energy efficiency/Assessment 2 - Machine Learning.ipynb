{
 "cells": [
  {
   "cell_type": "markdown",
   "metadata": {
    "id": "CBdcIQ7nLzNj"
   },
   "source": [
    "# Assessment 2 - Part 1: Machine Learning\n",
    "<br>\n",
    "\n",
    "## Task: train regression models that predict two indicators of energy efficiency based on 8 numerical inputs. \n",
    "<br>\n",
    "\n",
    "### Packages needed:\n",
    "\n",
    "- pandas\n",
    "- sklearn\n",
    "- numpy\n",
    "- matplotlib"
   ]
  },
  {
   "cell_type": "markdown",
   "metadata": {
    "id": "XLc-NOz1L7Y6"
   },
   "source": [
    "### 1.1 - Data Preparation"
   ]
  },
  {
   "cell_type": "markdown",
   "metadata": {
    "id": "DkUjx-nTMdt0"
   },
   "source": [
    "#### Importing libraries"
   ]
  },
  {
   "cell_type": "code",
   "execution_count": null,
   "metadata": {
    "id": "V7FOfSRQL_gM"
   },
   "outputs": [],
   "source": [
    "## Imports\n",
    "from sklearn.model_selection import train_test_split\n",
    "import numpy as np\n",
    "import pandas as pd\n",
    "import matplotlib.pyplot as plt\n",
    "\n",
    "## Used for normalising the data\n",
    "from sklearn.preprocessing import MinMaxScaler\n",
    "from sklearn.decomposition import PCA\n",
    "\n",
    "## Used for regression\n",
    "from sklearn.neural_network import MLPRegressor\n",
    "from sklearn.ensemble import RandomForestRegressor\n",
    "from sklearn.svm import SVR\n",
    "\n",
    "## Used for assessment of regression\n",
    "from sklearn.metrics import mean_squared_error\n",
    "from sklearn.metrics import mean_absolute_error\n",
    "\n",
    "## Used for cross validation\n",
    "from sklearn.model_selection import cross_val_score"
   ]
  },
  {
   "cell_type": "markdown",
   "metadata": {
    "id": "jsbY820IMwiI"
   },
   "source": [
    "#### Loading the dataset"
   ]
  },
  {
   "cell_type": "code",
   "execution_count": null,
   "metadata": {
    "colab": {
     "base_uri": "https://localhost:8080/",
     "height": 414
    },
    "id": "cCoxW9vZM3ti",
    "outputId": "920b65b1-d76c-4b31-d1a0-4b1c52b14c01"
   },
   "outputs": [],
   "source": [
    "energy_data = pd.read_excel(\"data.xlsx\")\n",
    "\n",
    "energy_data.head()"
   ]
  },
  {
   "cell_type": "markdown",
   "metadata": {},
   "source": [
    "#### Extracting and splitting data"
   ]
  },
  {
   "cell_type": "code",
   "execution_count": null,
   "metadata": {},
   "outputs": [],
   "source": [
    "#inputs\n",
    "inputs = energy_data.values[:,:8].astype(float)\n",
    "\n",
    "# Projecting data into 2 dimensions with PCA.\n",
    "pca = PCA(n_components = 2)\n",
    "compressed_inputs = pca.fit_transform(inputs)\n",
    "\n",
    "#normalise the inputs\n",
    "scaler = MinMaxScaler()\n",
    "scaled_inputs = scaler.fit_transform(inputs)\n",
    "\n",
    "#targets\n",
    "targets =  energy_data.values[:,8:].astype(float)\n",
    "\n",
    "# Print the range of the variables to show the normalisation effect.\n",
    "print(inputs.ptp(axis=0))\n",
    "print(scaled_inputs.ptp(axis=0))"
   ]
  },
  {
   "cell_type": "markdown",
   "metadata": {},
   "source": [
    "#### Setting up train and test data"
   ]
  },
  {
   "cell_type": "code",
   "execution_count": null,
   "metadata": {},
   "outputs": [],
   "source": [
    "#set up data\n",
    "x_train, x_test, y_train, y_test = train_test_split(scaled_inputs, targets, test_size=0.3, random_state=0)"
   ]
  },
  {
   "cell_type": "markdown",
   "metadata": {
    "id": "_UbBOF8YOjX4"
   },
   "source": [
    "### Task 1.2 - Regression"
   ]
  },
  {
   "cell_type": "markdown",
   "metadata": {
    "id": "qLxHfij9O5vX"
   },
   "source": [
    "#### Regression using the \"sklearn.neural_network.MLPRegressor\""
   ]
  },
  {
   "cell_type": "code",
   "execution_count": 21,
   "metadata": {
    "id": "6agXlDk9Oosv"
   },
   "outputs": [
    {
     "name": "stdout",
     "output_type": "stream",
     "text": [
      "[18.20597118 14.1628173   9.70867384 10.2829781   9.5145559  11.9072484\n",
      " 13.83947213  6.17263123  4.90308828  9.77480974]\n",
      "[7.72792488 3.36077817 6.00158203 7.54680889 4.87595599 4.21882323\n",
      " 8.23730529 7.68579437 5.84740267 4.11441311]\n"
     ]
    }
   ],
   "source": [
    "MLP = MLPRegressor(max_iter=10000)\n",
    "MLP.fit(x_train, y_train)\n",
    "\n",
    "y_pred = MLP.predict(x_test)\n",
    "\n",
    "\n",
    "MLP_test = abs(cross_val_score(MLP, x_test, y_test, cv=10, scoring='neg_mean_squared_error'))\n",
    "print(MLP_test)\n",
    "\n",
    "MLP_train = abs(cross_val_score(MLP, x_train, y_train, cv=10, scoring='neg_mean_squared_error'))\n",
    "print(MLP_train)"
   ]
  },
  {
   "cell_type": "markdown",
   "metadata": {
    "id": "AOiJ2euGPDIi"
   },
   "source": [
    "#### Regression using the \"sklearn.ensemble.RandomForestRegressor\""
   ]
  },
  {
   "cell_type": "code",
   "execution_count": 22,
   "metadata": {
    "id": "nZm0TaBiPI7f"
   },
   "outputs": [
    {
     "name": "stdout",
     "output_type": "stream",
     "text": [
      "[2.77802087 3.87424752 2.80716815 2.28376484 2.08697698 3.88917065\n",
      " 1.76172358 2.54105047 1.75974454 2.34688927]\n",
      "[1.84316303 1.90920855 2.3990481  2.77559399 1.58394078 1.47618768\n",
      " 2.45557389 2.81232248 1.56389257 1.73280097]\n"
     ]
    }
   ],
   "source": [
    "Forest = RandomForestRegressor()\n",
    "\n",
    "Forest.fit(x_train, y_train)\n",
    "\n",
    "y_pred = MLP.predict(x_test)\n",
    "\n",
    "Forest_test = abs(cross_val_score(Forest, x_test, y_test, cv=10, scoring='neg_mean_squared_error'))\n",
    "print(Forest_test)\n",
    "Forest_train = abs(cross_val_score(Forest, x_train, y_train, cv=10, scoring='neg_mean_squared_error'))\n",
    "print(Forest_train)\n"
   ]
  },
  {
   "cell_type": "markdown",
   "metadata": {
    "id": "RBh3t_m8wzfg"
   },
   "source": [
    "#### Regression using the \"sklearn.svm.SVR\""
   ]
  },
  {
   "cell_type": "code",
   "execution_count": 23,
   "metadata": {
    "id": "y-G-nLt7wzfp"
   },
   "outputs": [
    {
     "name": "stdout",
     "output_type": "stream",
     "text": [
      "[19.57278702 14.10091589 12.32642995 11.21899734 16.54835179 11.3592075\n",
      "  9.98089175 15.78059493  6.25546775  8.87787701]\n",
      "[12.89202745 13.18606233 10.98275636 15.46517906  8.46730159 13.89669824\n",
      " 11.64078598 15.97661588  5.64908255 10.84510372]\n",
      "[ 8.55407455  5.706869   11.00901533  9.29087477  7.09384773  5.84888671\n",
      " 10.7495821   8.95315248  6.53782088  7.76652096]\n",
      "[ 8.73358569  5.03557641 16.12654049 12.82419266  9.14555762  7.79372501\n",
      " 17.05227367 16.62952324  8.08087012  9.34214463]\n"
     ]
    }
   ],
   "source": [
    "SVR_Regressor = SVR()\n",
    "\n",
    "SVR_Regressor.fit(x_train, y_train[:, 0])\n",
    "y_pred_1 = SVR_Regressor.predict(x_test)\n",
    "\n",
    "SVR_Regressor.fit(x_train, y_train[:, 1])\n",
    "y_pred_2 = SVR_Regressor.predict(x_test)\n",
    "\n",
    "SVR_test_1 = abs(cross_val_score(SVR_Regressor, x_test, y_test[:, 0], cv=10, scoring='neg_mean_squared_error'))\n",
    "SVR_test_2 = abs(cross_val_score(SVR_Regressor, x_test, y_test[:, 1], cv=10, scoring='neg_mean_squared_error'))\n",
    "print(SVR_test_1)\n",
    "print(SVR_test_2)\n",
    "\n",
    "SVR_train_1 = abs(cross_val_score(SVR_Regressor, x_train, y_train[:, 0], cv=10, scoring='neg_mean_squared_error'))\n",
    "SVR_train_2 = abs(cross_val_score(SVR_Regressor, x_train, y_train[:, 1], cv=10, scoring='neg_mean_squared_error'))\n",
    "print(SVR_train_1)\n",
    "print(SVR_train_2)"
   ]
  },
  {
   "cell_type": "markdown",
   "metadata": {
    "id": "Tbe8xA_Bg6rU"
   },
   "source": [
    "### Task 1.3 - Assessment of  Regression"
   ]
  },
  {
   "cell_type": "markdown",
   "metadata": {
    "id": "zi-E4EBig_Kh"
   },
   "source": [
    "#### Boxplot"
   ]
  },
  {
   "cell_type": "code",
   "execution_count": 24,
   "metadata": {},
   "outputs": [
    {
     "data": {
      "image/png": "[encoded data removed]",
      "text/plain": [
       "<Figure size 432x288 with 1 Axes>"
      ]
     },
     "metadata": {
      "needs_background": "light"
     },
     "output_type": "display_data"
    },
    {
     "data": {
      "image/png": "[encoded data removed]",
      "text/plain": [
       "<Figure size 432x288 with 1 Axes>"
      ]
     },
     "metadata": {
      "needs_background": "light"
     },
     "output_type": "display_data"
    },
    {
     "data": {
      "image/png": "[encoded data removed]",
      "text/plain": [
       "<Figure size 432x288 with 1 Axes>"
      ]
     },
     "metadata": {
      "needs_background": "light"
     },
     "output_type": "display_data"
    }
   ],
   "source": [
    "Forest_DATA = [Forest_test, Forest_train]\n",
    "MLP_DATA = [MLP_test, MLP_train]\n",
    "SVR_DATA = [SVR_test_1, SVR_test_2, SVR_train_1, SVR_train_2]\n",
    "\n",
    "## Neural Network Model\n",
    "\n",
    "plt.figure()\n",
    "plt.title(\"Cross Validation - Neural Networks\")\n",
    "\n",
    "# Creating plot\n",
    "plt.boxplot(MLP_DATA)\n",
    "\n",
    "plt.xticks([1, 2], ['Test Data', 'Train Data'])\n",
    "plt.ylabel('MSE Rate')\n",
    "\n",
    "# show plot\n",
    "plt.show()\n",
    "\n",
    "## Forest Model\n",
    "\n",
    "plt.figure()\n",
    "plt.title(\"Cross Validation - Random Forest\")\n",
    "\n",
    "# Creating plot\n",
    "plt.boxplot(Forest_DATA)\n",
    "\n",
    "plt.xticks([1, 2], ['Test Data', 'Train Data'])\n",
    "plt.ylabel('MSE Rate')\n",
    "\n",
    "# show plot\n",
    "plt.show()\n",
    "\n",
    "## SVR Model\n",
    "\n",
    "plt.figure()\n",
    "plt.title(\"Cross Validation - SVR\")\n",
    "\n",
    "# Creating plot\n",
    "plt.boxplot(SVR_DATA)\n",
    "\n",
    "plt.xticks([1, 2, 3, 4], ['1st Test Data', '2nd Test Data', '1st Train Data', '2nd Train Data'])\n",
    "plt.ylabel('MSE Rate')\n",
    "\n",
    "# show plot\n",
    "plt.show()"
   ]
  }
 ],
 "metadata": {
  "colab": {
   "name": "Assessment_2_Machine_Learning_and_Optimisation.ipynb",
   "provenance": []
  },
  "kernelspec": {
   "display_name": "Python 3 (ipykernel)",
   "language": "python",
   "name": "python3"
  },
  "language_info": {
   "codemirror_mode": {
    "name": "ipython",
    "version": 3
   },
   "file_extension": ".py",
   "mimetype": "text/x-python",
   "name": "python",
   "nbconvert_exporter": "python",
   "pygments_lexer": "ipython3",
   "version": "3.9.5"
  }
 },
 "nbformat": 4,
 "nbformat_minor": 1
}
